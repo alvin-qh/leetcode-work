{
 "cells": [
  {
   "cell_type": "markdown",
   "id": "confidential-russia",
   "metadata": {},
   "source": [
    "# L391 ~ L400\n",
    "\n",
    "> 所有题目著作权归领扣网络所有"
   ]
  },
  {
   "cell_type": "markdown",
   "id": "numerous-crossing",
   "metadata": {},
   "source": [
    "## 303. 区域和检索 - 数组不可变\n",
    "\n",
    "给定一个整数数组`nums`，求出数组从索引`i`到`j`（`i ≤ j`）范围内元素的总和，包含`i`、`j`两点\n",
    "\n",
    "实现`NumArray`类：\n",
    "\n",
    "- `NumArray(int[] nums)`使用数组`nums`初始化对象\n",
    "- `int sumRange(int i, int j)`返回数组`nums`从索引`i`到`j`（`i ≤ j`）范围内元素的总和，包含`i`、`j`两点（也就是`sum(nums[i], nums[i + 1], ... , nums[j])`）\n",
    "\n",
    "\n",
    "**示例:**\n",
    "\n",
    "```\n",
    "输入：\n",
    "    array = [-2, 0, 3, -5, 2, -1]\n",
    "    第一组: i = 0, j = 2\n",
    "    第二组: i = 2, j = 5\n",
    "    第三组: i = 0, j = 5\n",
    "输出：\n",
    "    第一组: 1\n",
    "    第二组: -1\n",
    "    第三组: -3\n",
    "解释：\n",
    "    NumArray numArray = new NumArray([-2, 0, 3, -5, 2, -1]);\n",
    "    numArray.sumRange(0, 2); // return 1 ((-2) + 0 + 3)\n",
    "    numArray.sumRange(2, 5); // return -1 (3 + (-5) + 2 + (-1)) \n",
    "    numArray.sumRange(0, 5); // return -3 ((-2) + 0 + 3 + (-5) + 2 + (-1))\n",
    "```\n",
    "\n",
    "**提示：**\n",
    "\n",
    "- 0 <= nums.length <= 10^4\n",
    "- -10^5 <= nums[i] <= 10^5\n",
    "- 0 <= i <= j < nums.length\n",
    "- 最多调用 10^4 次 sumRange 方法"
   ]
  },
  {
   "cell_type": "markdown",
   "id": "tender-technician",
   "metadata": {},
   "source": [
    "### 303.1. Solution"
   ]
  },
  {
   "cell_type": "code",
   "execution_count": null,
   "id": "biological-session",
   "metadata": {},
   "outputs": [],
   "source": [
    "from typing import List\n",
    "\n",
    "class NumArray:\n",
    "    def __init__(self, nums: List[int]):\n",
    "        \"\"\"\n",
    "        算法说明:\n",
    "            预处理，为了加快运算效率，预先计算数组的元素和\n",
    "            产生一个数组 _sum[n]，每第 j 的元素是原数组 [0, j - 1] 范围内元素的和\n",
    "        Args:\n",
    "            nums(List[int]): 输入的数组\n",
    "        \"\"\"\n",
    "        self._sums = [0]\n",
    "        for n in nums:\n",
    "            self._sums.append(self._sums[-1] + n)\n",
    "\n",
    "    def sum_range(self, i: int, j: int) -> int:\n",
    "        \"\"\"\n",
    "        计算 i ~ j 元素的和，只需根据 _sum 数组，计算 _sums[j + 1] - _sums[i] 即可\n",
    "        即 (前j项元素和 - 前i项元素和) = 第i~j项元素和\n",
    "        \"\"\"\n",
    "        return self._sums[j + 1] - self._sums[i]"
   ]
  },
  {
   "cell_type": "markdown",
   "id": "electric-jewel",
   "metadata": {},
   "source": [
    "### 303.2. Test"
   ]
  },
  {
   "cell_type": "code",
   "execution_count": null,
   "id": "prompt-restriction",
   "metadata": {},
   "outputs": [],
   "source": [
    "nums = [-2, 0, 3, -5, 2, -1]\n",
    "array = NumArray(nums=nums)\n",
    "\n",
    "i, j = 0, 2\n",
    "res = array.sum_range(i=i, j=j)\n",
    "print('Sum of array {} between index {} and {} is: {}'.format(nums, i, j, res))\n",
    "\n",
    "i, j = 2, 5\n",
    "res = array.sum_range(i=i, j=j)\n",
    "print('Sum of array {} between index {} and {} is: {}'.format(nums, i, j, res))\n",
    "\n",
    "i, j = 0, 5\n",
    "res = array.sum_range(i=i, j=j)\n",
    "print('Sum of array {} between index {} and {} is: {}'.format(nums, i, j, res))"
   ]
  }
 ],
 "metadata": {
  "kernelspec": {
   "display_name": "Python 3",
   "language": "python",
   "name": "python3"
  },
  "language_info": {
   "codemirror_mode": {
    "name": "ipython",
    "version": 3
   },
   "file_extension": ".py",
   "mimetype": "text/x-python",
   "name": "python",
   "nbconvert_exporter": "python",
   "pygments_lexer": "ipython3",
   "version": "3.8.5"
  }
 },
 "nbformat": 4,
 "nbformat_minor": 5
}
