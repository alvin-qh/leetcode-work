{
 "cells": [
  {
   "cell_type": "markdown",
   "id": "fuzzy-trader",
   "metadata": {},
   "source": [
    "# L91 ~ L100\n",
    "\n",
    "> 所有题目著作权归领扣网络所有"
   ]
  },
  {
   "cell_type": "markdown",
   "id": "great-staff",
   "metadata": {},
   "source": [
    "## 92. 反转链表 II\n",
    "\n",
    "给你单链表的头节点`head`和两个整数`left`和`right`，其中`left <= right`。请你反转从位置`left`到位置`right`的链表节点，返回**反转后的链表**\n",
    "\n",
    "**示例1:**\n",
    "\n",
    "![](asset/92_q1.jpg)\n",
    "\n",
    "```\n",
    "输入：head = [1,2,3,4,5], left = 2, right = 4\n",
    "输出：[1,4,3,2,5]\n",
    "```\n",
    "\n",
    "**示例2：**\n",
    "\n",
    "```\n",
    "输入：head = [5], left = 1, right = 1\n",
    "输出：[5]\n",
    "```\n",
    "\n",
    "**提示：**\n",
    "\n",
    "- 链表中节点数目为`n`\n",
    "- `1 <= n <= 500`\n",
    "- `-500 <= Node.val <= 500`\n",
    "- `1 <= left <= right <= n`"
   ]
  },
  {
   "cell_type": "markdown",
   "id": "drawn-malawi",
   "metadata": {},
   "source": [
    "### 92.1. Solution"
   ]
  },
  {
   "cell_type": "code",
   "execution_count": 145,
   "id": "threaded-belle",
   "metadata": {},
   "outputs": [],
   "source": [
    "from typing import List\n",
    "\n",
    "class ListNode:\n",
    "    \"\"\"\n",
    "    The simple single-lilnked list node\n",
    "    \"\"\"\n",
    "\n",
    "    def __init__(self, val, next=None):\n",
    "        self.val = val\n",
    "        self.next = next\n",
    "\n",
    "    def __repr__(self):\n",
    "        s = '[{}'.format(self.val)\n",
    "        n = self.next\n",
    "        while n:\n",
    "            s += ', {}'.format(n.val)\n",
    "            n = n.next\n",
    "        return s + ']'\n",
    "\n",
    "    @classmethod\n",
    "    def build(cls, l: List) -> ListNode:\n",
    "        if len(l) == 0:\n",
    "            return None\n",
    "\n",
    "        head = node = ListNode(l[0])\n",
    "        for i in range(1, len(l)):\n",
    "            node.next = ListNode(l[i])\n",
    "            node = node.next\n",
    "        return head\n",
    "\n",
    "def reverse_between(head: ListNode, left: int, right: int) -> ListNode:\n",
    "    \"\"\"\n",
    "    算法思路: \n",
    "\n",
    "    Args:\n",
    "        n(int): 矩阵的秩\n",
    "\n",
    "    Returns:\n",
    "        List[List[int]]: 生成的矩阵结果\n",
    "    \"\"\"\n",
    "    i = 0\n",
    "    ln = ListNode(0, head)\n",
    "\n",
    "    while ln and i < left - 1:\n",
    "        ln = ln.next\n",
    "        i += 1\n",
    "        \n",
    "    mn = ln.next\n",
    "    rn = mn.next\n",
    "    \n",
    "    while rn and i < right - 1:\n",
    "        n = rn.next\n",
    "        mn.next = rn.next\n",
    "        rn.next = ln.next\n",
    "        ln.next = rn\n",
    "\n",
    "        rn = n\n",
    "        i += 1\n",
    "\n",
    "    return head"
   ]
  },
  {
   "cell_type": "markdown",
   "id": "injured-civilian",
   "metadata": {},
   "source": [
    "### 59.2. Test"
   ]
  },
  {
   "cell_type": "code",
   "execution_count": 146,
   "id": "premier-bench",
   "metadata": {},
   "outputs": [
    {
     "name": "stdout",
     "output_type": "stream",
     "text": [
      "The linked list [1, 2, 3] reverse between 1 and 2 is: [1, 3]\n"
     ]
    }
   ],
   "source": [
    "# %%timeit -n 1 -r 1\n",
    "\n",
    "# head = ListNode.build([1, 2, 3, 4, 5])\n",
    "# head_s = str(head)\n",
    "# left = 2\n",
    "# right = 4\n",
    "# res = reverse_between(head=head, left=left, right=right)\n",
    "# print('The linked list {} reverse between {} and {} is: {}'.format(head_s, left, right, res))\n",
    "\n",
    "# head = ListNode.build([5])\n",
    "# head_s = str(head)\n",
    "# left = 1\n",
    "# right = 1\n",
    "# res = reverse_between(head=head, left=left, right=right)\n",
    "# print('The linked list {} reverse between {} and {} is: {}'.format(head_s, left, right, res))\n",
    "\n",
    "# head = ListNode.build([3, 5])\n",
    "# head_s = str(head)\n",
    "# left = 1\n",
    "# right = 2\n",
    "# res = reverse_between(head=head, left=left, right=right)\n",
    "# print('The linked list {} reverse between {} and {} is: {}'.format(head_s, left, right, res))\n",
    "\n",
    "head = ListNode.build([1, 2, 3])\n",
    "head_s = str(head)\n",
    "left = 1\n",
    "right = 2\n",
    "res = reverse_between(head=head, left=left, right=right)\n",
    "print('The linked list {} reverse between {} and {} is: {}'.format(head_s, left, right, res))"
   ]
  }
 ],
 "metadata": {
  "kernelspec": {
   "display_name": "Python 3",
   "language": "python",
   "name": "python3"
  },
  "language_info": {
   "codemirror_mode": {
    "name": "ipython",
    "version": 3
   },
   "file_extension": ".py",
   "mimetype": "text/x-python",
   "name": "python",
   "nbconvert_exporter": "python",
   "pygments_lexer": "ipython3",
   "version": "3.8.5"
  }
 },
 "nbformat": 4,
 "nbformat_minor": 5
}
