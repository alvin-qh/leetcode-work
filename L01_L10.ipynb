{
 "cells": [
  {
   "cell_type": "markdown",
   "id": "political-layout",
   "metadata": {},
   "source": [
    "# Part 1 (1~10)"
   ]
  },
  {
   "cell_type": "code",
   "execution_count": null,
   "id": "worthy-disclosure",
   "metadata": {},
   "outputs": [],
   "source": [
    "import io\n",
    "from typing import (List, Iterable)"
   ]
  },
  {
   "cell_type": "markdown",
   "id": "quick-revolution",
   "metadata": {},
   "source": [
    "## 1. 两数之和\n",
    "\n",
    "给定一个整数数组`nums`和一个目标值`target`，请你在该数组中找出和为目标值的那**两个**整数，并返回他们的数组下标  \n",
    "你可以假设每种输入只会对应一个答案。但是，你不能重复利用这个数组中同样的元素\n",
    "\n",
    "**示例:**\n",
    "\n",
    "```\n",
    "给定 nums = [2, 7, 11, 15], target = 9\n",
    "因为 nums[0] + nums[1] = 2 + 7 = 9, 所以返回 [0, 1]\n",
    "```"
   ]
  },
  {
   "cell_type": "markdown",
   "id": "divided-voluntary",
   "metadata": {},
   "source": [
    "### 1.1. Solution"
   ]
  },
  {
   "cell_type": "code",
   "execution_count": null,
   "id": "perfect-reduction",
   "metadata": {},
   "outputs": [],
   "source": [
    "def two_sum(nums: List[int], target: int) -> List[int]:\n",
    "    \"\"\"\n",
    "    Args:\n",
    "        nums(List[int]): 输入的数组\n",
    "        target(int): 期望的和\n",
    "\n",
    "    Returns:\n",
    "        int: 返回数组中和为期望值的两个元素的下标\n",
    "    \"\"\"\n",
    "    # 保存数组 {value: index} 的 Dict\n",
    "    s_nums = {}\n",
    "    for idx, val in enumerate(nums):\n",
    "        # 判断另一个数字是否在s_nums中\n",
    "        if target - val in s_nums:\n",
    "            # 返回 [第一个下标(最小值), 第一个下标(最大值)],\n",
    "            return [min(idx, s_nums[target - val]), max(idx, s_nums[target - val])]\n",
    "        else:\n",
    "            # 存储数组对应值和下标\n",
    "            s_nums[val] = idx\n",
    "    return None"
   ]
  },
  {
   "cell_type": "markdown",
   "id": "seventh-casting",
   "metadata": {},
   "source": [
    "### 1.2. Test"
   ]
  },
  {
   "cell_type": "code",
   "execution_count": null,
   "id": "minor-healing",
   "metadata": {},
   "outputs": [],
   "source": [
    "nums = [2, 7, 11, 15]\n",
    "\n",
    "target = 9\n",
    "res = two_sum(nums=nums, target=target)\n",
    "print('{} + {} = {}, result is: {}'.format(nums[res[0]], nums[res[1]], target, res))\n",
    "\n",
    "target = 22\n",
    "res = two_sum(nums=nums, target=target)\n",
    "print('{} + {} = {}, result is: {}'.format(nums[res[0]], nums[res[1]], target, res))"
   ]
  },
  {
   "cell_type": "markdown",
   "id": "downtown-facility",
   "metadata": {},
   "source": [
    "## 2. 两数相加\n",
    "\n",
    "给出两个**非空**的链表用来表示两个非负的整数。其中，它们各自的位数是按照**逆序**的方式存储的，并且它们的每个节点只能存储**一位**数字  \n",
    "如果，我们将这两个数相加起来，则会返回一个新的链表来表示它们的和  \n",
    "您可以假设除了数字`0`之外，这两个数都不会以`0`开头\n",
    "\n",
    "**示例:**\n",
    "\n",
    "```\n",
    "输入: (2 -> 4 -> 3) + (5 -> 6 -> 4)\n",
    "输出: 7 -> 0 -> 8\n",
    "原因: 342 + 465 = 807\n",
    "```"
   ]
  },
  {
   "cell_type": "markdown",
   "id": "champion-montreal",
   "metadata": {},
   "source": [
    "### 2.1. Solution"
   ]
  },
  {
   "cell_type": "code",
   "execution_count": null,
   "id": "fiscal-activity",
   "metadata": {},
   "outputs": [],
   "source": [
    "class ListNode:\n",
    "    def __init__(self, x):\n",
    "        self.val = x\n",
    "        self.next = None\n",
    "\n",
    "    @classmethod\n",
    "    def of(cls, it: Iterable):\n",
    "        t_n = n = ListNode(0)\n",
    "        for e in it:\n",
    "            n.next = cls(e)\n",
    "            n = n.next\n",
    "        return t_n.next\n",
    "\n",
    "    def __str__(self):\n",
    "        with io.StringIO() as s:\n",
    "            s.write('[')\n",
    "            t_n = self\n",
    "            while t_n:\n",
    "                if t_n != self:\n",
    "                    s.write(', ')\n",
    "                s.write(str(t_n.val))\n",
    "                t_n = t_n.next\n",
    "            s.write(']')\n",
    "            return s.getvalue()\n",
    "\n",
    "    def __eq__(self, other):\n",
    "        if not isinstance(other, ListNode):\n",
    "            return False\n",
    "\n",
    "        l1, l2 = self, other\n",
    "        while l1 and l2:\n",
    "            if l1.val != l2.val:\n",
    "                return False\n",
    "\n",
    "            l1 = l1.next\n",
    "            l2 = l2.next\n",
    "\n",
    "        return l1 is None and l2 is None\n",
    "\n",
    "def add_two_nums(l1: ListNode, l2: ListNode) -> ListNode:\n",
    "    \"\"\"\n",
    "    Args:\n",
    "        l1(ListNode): 链表1\n",
    "        l2(ListNode): 链表2\n",
    "\n",
    "    Returns:\n",
    "        ListNode: 输入的两个链表各元素相加的结果链表\n",
    "    \"\"\"\n",
    "    # top 头节点\n",
    "    # l3 尾节点\n",
    "    top = l3 = ListNode(-1)\n",
    "    # 进位值\n",
    "    carry = 0\n",
    "\n",
    "    while l1 or l2:\n",
    "        # 第一个数字\n",
    "        a = l1.val if l1 else 0\n",
    "        # 第二个数字\n",
    "        b = l2.val if l2 else 0\n",
    "        # 计算两个数字和进位值的和\n",
    "        c = a + b + carry\n",
    "\n",
    "        # 计算进位值\n",
    "        carry = c // 10\n",
    "        # 保存结果节点\n",
    "        l3.next = ListNode(c % 10)\n",
    "        l3 = l3.next\n",
    "\n",
    "        # l1 和 l2 链表前进一个元素\n",
    "        l1 = l1.next if l1 else None\n",
    "        l2 = l2.next if l2 else None\n",
    "\n",
    "    # 若剩余进位值，记录保存进位的节点\n",
    "    if carry > 0:\n",
    "        l3.next = ListNode(carry)\n",
    "\n",
    "    return top.next"
   ]
  },
  {
   "cell_type": "markdown",
   "id": "historic-voltage",
   "metadata": {},
   "source": [
    "### 2.2. Test"
   ]
  },
  {
   "cell_type": "code",
   "execution_count": null,
   "id": "wireless-present",
   "metadata": {},
   "outputs": [],
   "source": [
    "l1 = ListNode.of([2, 4, 3])\n",
    "l2 = ListNode.of([5, 6, 4])\n",
    "res = add_two_nums(l1=l1, l2=l2)\n",
    "print('{} + {} = {}'.format(l1, l2, res))\n",
    "\n",
    "l1 = ListNode.of([0])\n",
    "l2 = ListNode.of([0])\n",
    "res = add_two_nums(l1=l1, l2=l2)\n",
    "print('{} + {} = {}'.format(l1, l2, res))\n",
    "\n",
    "l1 = ListNode.of([9])\n",
    "l2 = ListNode.of([1])\n",
    "res = add_two_nums(l1=l1, l2=l2)\n",
    "print('{} + {} = {}'.format(l1, l2, res))"
   ]
  },
  {
   "cell_type": "markdown",
   "id": "sacred-onion",
   "metadata": {},
   "source": [
    "## 3. 无重复字符的最长子串\n",
    "\n",
    "给定一个字符串，请你找出其中不含有重复字符的 最长子串 的长度\n",
    "\n",
    "示例 1:\n",
    "\n",
    "```\n",
    "输入: \"abcabcbb\"\n",
    "输出: 3\n",
    "解释: 因为无重复字符的最长子串是 \"abc\"，所以其长度为 3\n",
    "```\n",
    "\n",
    "示例2:\n",
    "\n",
    "```\n",
    "输入: \"bbbbb\"\n",
    "输出: 1\n",
    "解释: 因为无重复字符的最长子串是 \"b\"，所以其长度为 1\n",
    "```\n",
    "\n",
    "示例3:\n",
    "\n",
    "```\n",
    "输入: \"pwwkew\"\n",
    "输出: 3\n",
    "解释: 因为无重复字符的最长子串是 \"wke\"，所以其长度为 3\n",
    "```\n",
    "\n",
    "\n",
    "请注意，你的答案必须是**子串**的长度，`\"pwke\"`是一个子序列，不是子串"
   ]
  },
  {
   "cell_type": "markdown",
   "id": "traditional-stereo",
   "metadata": {},
   "source": [
    "### 3.1. Solution"
   ]
  },
  {
   "cell_type": "code",
   "execution_count": null,
   "id": "comfortable-chester",
   "metadata": {},
   "outputs": [],
   "source": [
    "def length_of_longest_substring(s: str) -> int:\n",
    "    \"\"\"\n",
    "    Args:\n",
    "        s(str): 输入的字符串\n",
    "\n",
    "    Returns:\n",
    "        int: 子字符串长度\n",
    "    \"\"\"\n",
    "    \n",
    "    # 保存不重复的字符序列\n",
    "    cs = set()\n",
    "    # 记录最长的不重复字符串长度\n",
    "    ml = 0\n",
    "    # i 指向当前不重复字符串结尾\n",
    "    # j 指向当前不重复字符串开头\n",
    "    i, j = 0, 0\n",
    "\n",
    "    while i < len(s) and j < len(s):\n",
    "        if s[i] not in cs:  # 判断下一个字符是否重复\n",
    "            cs.add(s[i]) # 将未重复的字符加入序列\n",
    "            i += 1\n",
    "            ml = max(ml, i - j) # 计算最大不重复字符串长度\n",
    "        else:\n",
    "            cs.remove(s[j]) # 从存储的字符序列中删除重复的字符\n",
    "            j += 1 # 开始下一个子字符串计算\n",
    "    return ml"
   ]
  },
  {
   "cell_type": "markdown",
   "id": "educational-rover",
   "metadata": {},
   "source": [
    "### 3.2. Test"
   ]
  },
  {
   "cell_type": "code",
   "execution_count": null,
   "id": "limiting-photographer",
   "metadata": {},
   "outputs": [],
   "source": [
    "s = 'abcabcbb'\n",
    "res = length_of_longest_substring(s=s)\n",
    "print('Length of longest substring of \"{}\" is: {}'.format(s, res))\n",
    "\n",
    "s = 'abc'\n",
    "res = length_of_longest_substring(s=s)\n",
    "print('Length of longest substring of \"{}\" is: {}'.format(s, res))\n",
    "\n",
    "s = 'bbbbb'\n",
    "res = length_of_longest_substring(s=s)\n",
    "print('Length of longest substring of \"{}\" is: {}'.format(s, res))\n",
    "\n",
    "s = 'pwwkew'\n",
    "res = length_of_longest_substring(s=s)\n",
    "print('Length of longest substring of \"{}\" is: {}'.format(s, res))"
   ]
  },
  {
   "cell_type": "markdown",
   "id": "editorial-craft",
   "metadata": {},
   "source": [
    "## 4. 寻找两个有序数组的中位数\n",
    "\n",
    "给定两个大小为`m`和`n`的有序数组`nums1`和`nums2`  \n",
    "请你找出这两个有序数组的中位数，并且要求算法的时间复杂度为$O(log(m + n))$  \n",
    "\n",
    "你可以假设`nums1`和`nums2`不会同时为空。\n",
    "\n",
    "示例 1:\n",
    "\n",
    "```\n",
    "nums1 = [1, 3]\n",
    "nums2 = [2]\n",
    "则中位数是 2.0\n",
    "```\n",
    "\n",
    "示例 2:\n",
    "\n",
    "```\n",
    "nums1 = [1, 2]\n",
    "nums2 = [3, 4]\n",
    "则中位数是 (2 + 3) / 2 = 2.5\n",
    "```"
   ]
  },
  {
   "cell_type": "markdown",
   "id": "comparable-religion",
   "metadata": {},
   "source": [
    "### 4.1. Solution"
   ]
  },
  {
   "cell_type": "code",
   "execution_count": null,
   "id": "conditional-hormone",
   "metadata": {},
   "outputs": [],
   "source": [
    "def find_median_sorted_arrays(nums1: List[int], nums2: List[int]) -> float:\n",
    "    \"\"\"\n",
    "    Args:\n",
    "        nums1(List[int]): 输入的字符串\n",
    "        nums2(List[int]): 输入的字符串\n",
    "\n",
    "    Returns:\n",
    "        float: \n",
    "    \"\"\"\n",
    "    total_len = len(nums1) + len(nums2)\n",
    "    i, j, n, mid = 0, 0, 0, (len(nums1) + len(nums2) + 1) // 2\n",
    "    left, right = 0, 0\n",
    "\n",
    "    while n < mid + 1:\n",
    "        a = None\n",
    "        if i < len(nums1):\n",
    "            a = nums1[i]\n",
    "\n",
    "        b = None\n",
    "        if j < len(nums2):\n",
    "            b = nums2[j]\n",
    "\n",
    "        if a is None:\n",
    "            val = b\n",
    "            j += 1\n",
    "        elif b is None:\n",
    "            val = a\n",
    "            i += 1\n",
    "        else:\n",
    "            if a > b:\n",
    "                val = b\n",
    "                j += 1\n",
    "            else:\n",
    "                val = a\n",
    "                i += 1\n",
    "\n",
    "        if n == mid - 1:\n",
    "            left = val\n",
    "        elif n == mid:\n",
    "            right = val\n",
    "\n",
    "        n += 1\n",
    "\n",
    "    if total_len % 2 == 0:\n",
    "        mid = (left + right) / 2\n",
    "    else:\n",
    "        mid = left\n",
    "\n",
    "    return mid"
   ]
  },
  {
   "cell_type": "markdown",
   "id": "finnish-programmer",
   "metadata": {},
   "source": [
    "### 4.2. Test"
   ]
  },
  {
   "cell_type": "code",
   "execution_count": null,
   "id": "annoying-vertical",
   "metadata": {},
   "outputs": [],
   "source": [
    "num1 = [1, 3]\n",
    "num2 = [2]\n",
    "res = find_median_sorted_arrays(nums1=num1, nums2=num2)\n",
    "print('median of {} and {} is: {}'.format(num1, num2, res))\n",
    "\n",
    "num1 = [1, 2]\n",
    "num2 = [3, 4]\n",
    "res = find_median_sorted_arrays(nums1=num1, nums2=num2)\n",
    "print('median of {} and {} is: {}'.format(num1, num2, res))"
   ]
  },
  {
   "cell_type": "code",
   "execution_count": null,
   "id": "activated-tampa",
   "metadata": {},
   "outputs": [],
   "source": []
  }
 ],
 "metadata": {
  "kernelspec": {
   "display_name": "Python 3",
   "language": "python",
   "name": "python3"
  },
  "language_info": {
   "codemirror_mode": {
    "name": "ipython",
    "version": 3
   },
   "file_extension": ".py",
   "mimetype": "text/x-python",
   "name": "python",
   "nbconvert_exporter": "python",
   "pygments_lexer": "ipython3",
   "version": "3.8.5"
  }
 },
 "nbformat": 4,
 "nbformat_minor": 5
}
