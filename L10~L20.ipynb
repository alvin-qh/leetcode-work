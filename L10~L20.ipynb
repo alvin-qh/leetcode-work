{
 "cells": [
  {
   "cell_type": "markdown",
   "id": "central-memphis",
   "metadata": {},
   "source": [
    "# Part 2 (11~20)\n",
    "\n",
    "> 所有题目著作权归领扣网络所有"
   ]
  },
  {
   "cell_type": "markdown",
   "id": "intellectual-senior",
   "metadata": {},
   "source": [
    "## 11. 盛最多水的容器\n",
    "\n",
    "给你`n`个非负整数`a1`, `a2`, ..., `an`，每个数代表坐标中的一个点`(i, ai)`。在坐标内画`n`条垂直线，垂直线`i`的两个端点分别为`(i, ai)`和`(i, 0) `。找出其中的两条线，使得它们与`x`轴共同构成的容器可以容纳最多的水。\n",
    "\n",
    "说明：你不能倾斜容器。\n",
    "\n",
    "**示例1:**\n",
    "\n",
    "![asset/11_q1.jpg](asset/11_q1.jpg)\n",
    "\n",
    "```\n",
    "输入：[1,8,6,2,5,4,8,3,7]\n",
    "输出：49 \n",
    "解释：图中垂直线代表输入数组 [1,8,6,2,5,4,8,3,7]。在此情况下，容器能够容纳水（表示为蓝色部分）的最大值为 49\n",
    "```\n",
    "\n",
    "**示例2：**\n",
    "\n",
    "```\n",
    "输入：height = [1,1]\n",
    "输出：1\n",
    "```\n",
    "\n",
    "**示例3：**\n",
    "\n",
    "```\n",
    "输入：height = [4,3,2,1,4]\n",
    "输出：16\n",
    "```\n",
    "\n",
    "**示例4：**\n",
    "\n",
    "```\n",
    "输入：height = [1,2,1]\n",
    "输出：2\n",
    "```\n",
    "\n",
    "**提示：**\n",
    "\n",
    "- `n = height.length`\n",
    "- `2 <= n <= 3 * 104`\n",
    "- `0 <= height[i] <= 3 * 104`"
   ]
  },
  {
   "cell_type": "markdown",
   "id": "theoretical-tutorial",
   "metadata": {},
   "source": [
    "### 1.1. Solution"
   ]
  },
  {
   "cell_type": "code",
   "execution_count": null,
   "id": "chronic-danger",
   "metadata": {},
   "outputs": [],
   "source": [
    "def two_sum(nums: List[int], target: int) -> List[int]:\n",
    "    \"\"\"\n",
    "    算法思路: \n",
    "        遍历数组 nums，以数组的每个值为被减数 a，在已存储集合 s_nums 中查找是否有匹配的减数 b = target - a\n",
    "        如果找到 b，则返回 [b的索引, a的索引]\n",
    "        如果未找到 b，则保存 b 的值和索引到 s_nums 中\n",
    "        直到 a 和 b 都找到或数组完全被遍历\n",
    "\n",
    "    Args:\n",
    "        nums(List[int]): 输入的数组\n",
    "        target(int): 期望的和\n",
    "\n",
    "    Returns:\n",
    "        int: 返回数组中和为期望值的两个元素的下标\n",
    "    \"\"\"\n",
    "    s_nums = {}\n",
    "    for idx, val in enumerate(nums):\n",
    "        if val in s_nums:\n",
    "            return [s_nums[val], idx]\n",
    "\n",
    "        s_nums[target - val] = idx\n",
    "    return None"
   ]
  },
  {
   "cell_type": "markdown",
   "id": "demonstrated-dress",
   "metadata": {},
   "source": [
    "### 1.2. Test"
   ]
  },
  {
   "cell_type": "code",
   "execution_count": null,
   "id": "electoral-setting",
   "metadata": {},
   "outputs": [],
   "source": [
    "%%timeit -n 1 -r 1\n",
    "\n",
    "nums = [2, 7, 11, 15]\n",
    "\n",
    "target = 9\n",
    "res = two_sum(nums=nums, target=target)\n",
    "print('{} + {} = {}, result is: {}'.format(nums[res[0]], nums[res[1]], target, res))\n",
    "\n",
    "target = 22\n",
    "res = two_sum(nums=nums, target=target)\n",
    "print('{} + {} = {}, result is: {}'.format(nums[res[0]], nums[res[1]], target, res))"
   ]
  }
 ],
 "metadata": {
  "kernelspec": {
   "display_name": "Python 3",
   "language": "python",
   "name": "python3"
  },
  "language_info": {
   "codemirror_mode": {
    "name": "ipython",
    "version": 3
   },
   "file_extension": ".py",
   "mimetype": "text/x-python",
   "name": "python",
   "nbconvert_exporter": "python",
   "pygments_lexer": "ipython3",
   "version": "3.8.5"
  }
 },
 "nbformat": 4,
 "nbformat_minor": 5
}
