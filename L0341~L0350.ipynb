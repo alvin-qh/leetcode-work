{
 "cells": [
  {
   "cell_type": "markdown",
   "id": "crazy-providence",
   "metadata": {},
   "source": [
    "# L341 ~ L350\n",
    "\n",
    "> 所有题目著作权归领扣网络所有"
   ]
  },
  {
   "cell_type": "markdown",
   "id": "improving-yukon",
   "metadata": {},
   "source": [
    "## 341. 扁平化嵌套列表迭代器\n",
    "\n",
    "给你一个嵌套的整型列表。请你设计一个迭代器，使其能够遍历这个整型列表中的所有整数  \n",
    "列表中的每一项或者为一个整数，或者是另一个列表。其中列表的元素也可能是整数或是其他列表\n",
    "\n",
    "\n",
    "**示例1:**\n",
    "\n",
    "```\n",
    "输入: [[1,1],2,[1,1]]\n",
    "输出: [1,1,2,1,1]\n",
    "解释: 通过重复调用 next 直到 hasNext 返回 false，next 返回的元素的顺序应该是: [1,1,2,1,1]\n",
    "```\n",
    "\n",
    "**示例2：**\n",
    "\n",
    "```\n",
    "输入: [1,[4,[6]]]\n",
    "输出: [1,4,6]\n",
    "解释: 通过重复调用 next 直到 hasNext 返回 false，next 返回的元素的顺序应该是: [1,4,6]\n",
    "```"
   ]
  },
  {
   "cell_type": "markdown",
   "id": "hungarian-hobby",
   "metadata": {},
   "source": [
    "### 341.1. Solution"
   ]
  },
  {
   "cell_type": "code",
   "execution_count": null,
   "id": "standing-antigua",
   "metadata": {},
   "outputs": [],
   "source": [
    "from __future__ import annotations\n",
    "\n",
    "from typing import Union\n",
    "\n",
    "class NestedInteger:\n",
    "    \"\"\"\n",
    "    定义可嵌套整数类型。（题目中无需定义）\n",
    "    \"\"\"\n",
    "\n",
    "    def __init__(self, n: Union[int, [NestedInteger]]):\n",
    "        self._n = n\n",
    "        self._is_int = isinstance(n, int)  # 根据类型设置是否整数\n",
    "\n",
    "    def is_int(self) -> bool:\n",
    "        return self._is_int\n",
    "\n",
    "    def get_int(self) -> int:\n",
    "        return self._n if self._is_int else None\n",
    "\n",
    "    def get_list(self) -> [NestedInteger]:\n",
    "        return self._n if not self._is_int else None\n",
    "\n",
    "    def __repr__(self):\n",
    "        \"\"\"\n",
    "        转换为字符串\n",
    "        \"\"\"\n",
    "        if self._is_int:  # 如果当前类型为整数，返回表达整数的字符串\n",
    "            return '{}'.format(self._n)\n",
    "\n",
    "        # 如果当前类型为列表，则递归输出列表内容\n",
    "        s = '['\n",
    "        for i, n in enumerate(self._n):\n",
    "            s += ('{}' if i == 0 else ', {}').format(n)\n",
    "        return s + ']'\n",
    "\n",
    "    @classmethod\n",
    "    def of(cls, l: [Union[int, [int]]]) -> NestedInteger:\n",
    "        \"\"\"\n",
    "        将整数或整数列表转化为 NestedInteger 对象\n",
    "        \"\"\"\n",
    "        return NestedInteger([NestedInteger(n) if isinstance(n, int) else cls.of(n) for n in l])\n",
    "\n",
    "\n",
    "class NestedIterator:\n",
    "    def __init__(self, nested_list: [NestedInteger]):\n",
    "        \"\"\"\n",
    "        初始化迭代器\n",
    "        算法结束后，所有嵌套的元素均被平铺开，逆序存放在 self._list 列表中\n",
    "        \"\"\"\n",
    "        nested_list = nested_list[:]\n",
    "        self._list = []\n",
    "\n",
    "        while len(nested_list) > 0:  # 将 nested_list 看作为栈结构，开始深度优先遍历\n",
    "            n = nested_list.pop()  # 出栈\n",
    "            if n.is_int():  # 判断出栈元素是否为整数，如果是整数，则加入到结果列表中，否则将其内容全部压栈\n",
    "                self._list.append(n)\n",
    "            else:\n",
    "                nested_list += n.get_list()\n",
    "\n",
    "    def next(self) -> int:\n",
    "        n = self._list.pop()\n",
    "        return n\n",
    "\n",
    "    def has_next(self) -> bool:\n",
    "        return len(self._list) > 0\n",
    "\n",
    "\n",
    "def flat_list(nested_list: [NestedInteger]) -> [int]:\n",
    "    it = NestedIterator(nested_list)\n",
    "    res = []\n",
    "    while it.has_next():\n",
    "        res.append(it.next())\n",
    "\n",
    "    return res"
   ]
  },
  {
   "cell_type": "markdown",
   "id": "conceptual-copper",
   "metadata": {},
   "source": [
    "### 341.2. Test"
   ]
  },
  {
   "cell_type": "code",
   "execution_count": null,
   "id": "bigger-rating",
   "metadata": {},
   "outputs": [],
   "source": [
    "%%timeit -n 1 -r 1\n",
    "\n",
    "nested_list = NestedInteger.of([[1, 1], 2, [1, 1]]).get_list()\n",
    "res = flat_list(nested_list=nested_list)\n",
    "print('After flat nested list {}, the result is: {}'.format(nested_list, res))\n",
    "\n",
    "nested_list = NestedInteger.of([1, [4, [6]]]).get_list()\n",
    "res = flat_list(nested_list=nested_list)\n",
    "print('After flat nested list {}, the result is: {}'.format(nested_list, res))"
   ]
  }
 ],
 "metadata": {
  "kernelspec": {
   "display_name": "Python 3",
   "language": "python",
   "name": "python3"
  },
  "language_info": {
   "codemirror_mode": {
    "name": "ipython",
    "version": 3
   },
   "file_extension": ".py",
   "mimetype": "text/x-python",
   "name": "python",
   "nbconvert_exporter": "python",
   "pygments_lexer": "ipython3",
   "version": "3.8.5"
  }
 },
 "nbformat": 4,
 "nbformat_minor": 5
}
