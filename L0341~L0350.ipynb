{
 "cells": [
  {
   "cell_type": "markdown",
   "id": "experienced-mexico",
   "metadata": {},
   "source": [
    "# L341 ~ L350\n",
    "\n",
    "> 所有题目著作权归领扣网络所有"
   ]
  },
  {
   "cell_type": "markdown",
   "id": "dominant-package",
   "metadata": {},
   "source": [
    "## 341. 扁平化嵌套列表迭代器\n",
    "\n",
    "给你一个嵌套的整型列表。请你设计一个迭代器，使其能够遍历这个整型列表中的所有整数  \n",
    "列表中的每一项或者为一个整数，或者是另一个列表。其中列表的元素也可能是整数或是其他列表\n",
    "\n",
    "\n",
    "**示例1:**\n",
    "\n",
    "```\n",
    "输入: [[1,1],2,[1,1]]\n",
    "输出: [1,1,2,1,1]\n",
    "解释: 通过重复调用 next 直到 hasNext 返回 false，next 返回的元素的顺序应该是: [1,1,2,1,1]\n",
    "```\n",
    "\n",
    "**示例2：**\n",
    "\n",
    "```\n",
    "输入: [1,[4,[6]]]\n",
    "输出: [1,4,6]\n",
    "解释: 通过重复调用 next 直到 hasNext 返回 false，next 返回的元素的顺序应该是: [1,4,6]\n",
    "```"
   ]
  },
  {
   "cell_type": "markdown",
   "id": "funded-beast",
   "metadata": {},
   "source": [
    "### 59.1. Solution"
   ]
  },
  {
   "cell_type": "code",
   "execution_count": 5,
   "id": "renewable-mount",
   "metadata": {},
   "outputs": [],
   "source": [
    "from __future__ import annotations\n",
    "\n",
    "from typing import Union, NewType\n",
    "\n",
    "class NestedInteger:\n",
    "    def __init__(self, n: Union[int, [NestedInteger]]):\n",
    "        self._n = n\n",
    "        self._is_int = isinstance(n, int)\n",
    "    \n",
    "    def is_int(self) -> bool:\n",
    "        return self._is_int\n",
    "\n",
    "    def get_int(self) -> int:\n",
    "        return self._n if self._is_int else None\n",
    "\n",
    "    def get_list(self) -> [NestedInteger]:\n",
    "        return self._n if not self.is_int else None"
   ]
  },
  {
   "cell_type": "markdown",
   "id": "toxic-applicant",
   "metadata": {},
   "source": [
    "### 59.2. Test"
   ]
  },
  {
   "cell_type": "markdown",
   "id": "median-pound",
   "metadata": {},
   "source": [
    "- Test 1"
   ]
  },
  {
   "cell_type": "code",
   "execution_count": null,
   "id": "meaning-school",
   "metadata": {},
   "outputs": [],
   "source": [
    "%%timeit -n 1 -r 1\n",
    "\n",
    "n = 3\n",
    "r = generate_matrix1(n=n)\n",
    "print('When rank is {}, the matrix is {}'.format(n, r))\n",
    "\n",
    "n = 1\n",
    "r = generate_matrix1(n=n)\n",
    "print('When rank is {}, the matrix is {}'.format(n, r))"
   ]
  },
  {
   "cell_type": "markdown",
   "id": "blond-rebecca",
   "metadata": {},
   "source": [
    "- Test 2"
   ]
  },
  {
   "cell_type": "code",
   "execution_count": null,
   "id": "analyzed-civilian",
   "metadata": {},
   "outputs": [],
   "source": [
    "# %%timeit -n 1 -r 1\n",
    "\n",
    "n = 3\n",
    "r = generate_matrix2(n=n)\n",
    "print('When rank is {}, the matrix is {}'.format(n, r))\n",
    "\n",
    "n = 1\n",
    "r = generate_matrix2(n=n)\n",
    "print('When rank is {}, the matrix is {}'.format(n, r))"
   ]
  }
 ],
 "metadata": {
  "kernelspec": {
   "display_name": "Python 3",
   "language": "python",
   "name": "python3"
  },
  "language_info": {
   "codemirror_mode": {
    "name": "ipython",
    "version": 3
   },
   "file_extension": ".py",
   "mimetype": "text/x-python",
   "name": "python",
   "nbconvert_exporter": "python",
   "pygments_lexer": "ipython3",
   "version": "3.8.5"
  }
 },
 "nbformat": 4,
 "nbformat_minor": 5
}
