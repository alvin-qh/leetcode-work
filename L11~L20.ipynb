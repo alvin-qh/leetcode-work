{
 "cells": [
  {
   "cell_type": "markdown",
   "id": "appreciated-government",
   "metadata": {},
   "source": [
    "# Part 2 (11~20)\n",
    "\n",
    "> 所有题目著作权归领扣网络所有"
   ]
  },
  {
   "cell_type": "markdown",
   "id": "public-lunch",
   "metadata": {},
   "source": [
    "## 11. 盛最多水的容器\n",
    "\n",
    "给你`n`个非负整数`a1`, `a2`, ..., `an`，每个数代表坐标中的一个点`(i, ai)`。在坐标内画`n`条垂直线，垂直线`i`的两个端点分别为`(i, ai)`和`(i, 0) `。找出其中的两条线，使得它们与`x`轴共同构成的容器可以容纳最多的水。\n",
    "\n",
    "说明：你不能倾斜容器。\n",
    "\n",
    "**示例1:**\n",
    "\n",
    "![asset/11_q1.jpg](asset/11_q1.jpg)\n",
    "\n",
    "```\n",
    "输入：[1,8,6,2,5,4,8,3,7]\n",
    "输出：49 \n",
    "解释：图中垂直线代表输入数组 [1,8,6,2,5,4,8,3,7]。在此情况下，容器能够容纳水（表示为蓝色部分）的最大值为 49\n",
    "```\n",
    "\n",
    "**示例2：**\n",
    "\n",
    "```\n",
    "输入：height = [1,1]\n",
    "输出：1\n",
    "```\n",
    "\n",
    "**示例3：**\n",
    "\n",
    "```\n",
    "输入：height = [4,3,2,1,4]\n",
    "输出：16\n",
    "```\n",
    "\n",
    "**示例4：**\n",
    "\n",
    "```\n",
    "输入：height = [1,2,1]\n",
    "输出：2\n",
    "```\n",
    "\n",
    "**提示：**\n",
    "\n",
    "- `n = height.length`\n",
    "- `2 <= n <= 3 * 104`\n",
    "- `0 <= height[i] <= 3 * 104`"
   ]
  },
  {
   "cell_type": "markdown",
   "id": "adopted-purpose",
   "metadata": {},
   "source": [
    "### 1.1. Solution"
   ]
  },
  {
   "cell_type": "code",
   "execution_count": null,
   "id": "structured-handy",
   "metadata": {},
   "outputs": [],
   "source": [
    "from typing import List\n",
    "\n",
    "def max_area(height: List[int]) -> List[int]:\n",
    "    \"\"\"\n",
    "    算法思路: \n",
    "        双指针法：\n",
    "            1. i, j 分别指向数组的头和尾\n",
    "            2. 基于 i, j 所指向的元素和 j - i 距离，计算面积\n",
    "            3. 如果 i 指向的元素比较大，则向前移动 j 指针，反之向后移动 i 指针\n",
    "            4. 返回所有面积中最大的值\n",
    "        \n",
    "        移动元素较小的那一端指针：\n",
    "            移动元素较小的那一端指针，得到的新面积不会大于之前的面积\n",
    "\n",
    "    Args:\n",
    "        height(List[int]): 高度集合\n",
    "\n",
    "    Returns:\n",
    "        int: 可能的最大面积\n",
    "    \"\"\"\n",
    "    res = 0\n",
    "    i, j = 0, len(height) - 1\n",
    "    while i != j:\n",
    "        h1, h2 = height[i], height[j]\n",
    "        res = max((res, (j - i) * min(h1, h2)))\n",
    "        \n",
    "        if h1 >= h2:\n",
    "            j -= 1\n",
    "        else:\n",
    "            i += 1\n",
    "    return res"
   ]
  },
  {
   "cell_type": "markdown",
   "id": "bored-sport",
   "metadata": {},
   "source": [
    "### 1.2. Test"
   ]
  },
  {
   "cell_type": "code",
   "execution_count": null,
   "id": "outstanding-insulin",
   "metadata": {},
   "outputs": [],
   "source": [
    "%%timeit -n 1 -r 1\n",
    "\n",
    "height = [1, 1]\n",
    "r = max_area(height=height)\n",
    "print('When height list is: {}, max area is: {}'.format(height, r))\n",
    "\n",
    "height = [4, 3, 2, 1, 4]\n",
    "r = max_area(height=height)\n",
    "print('When height list is: {}, max area is: {}'.format(height, r))\n",
    "\n",
    "height = [1, 2, 1]\n",
    "r = max_area(height=height)\n",
    "print('When height list is: {}, max area is: {}'.format(height, r))\n",
    "\n",
    "height = [1, 8, 6, 2, 5, 4, 8, 3, 7]\n",
    "r = max_area(height=height)\n",
    "print('When height list is: {}, max area is: {}'.format(height, r))"
   ]
  }
 ],
 "metadata": {
  "kernelspec": {
   "display_name": "Python 3",
   "language": "python",
   "name": "python3"
  },
  "language_info": {
   "codemirror_mode": {
    "name": "ipython",
    "version": 3
   },
   "file_extension": ".py",
   "mimetype": "text/x-python",
   "name": "python",
   "nbconvert_exporter": "python",
   "pygments_lexer": "ipython3",
   "version": "3.8.5"
  }
 },
 "nbformat": 4,
 "nbformat_minor": 5
}
