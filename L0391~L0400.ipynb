{
 "cells": [
  {
   "cell_type": "markdown",
   "id": "refined-mixer",
   "metadata": {},
   "source": [
    "# L391 ~ L400\n",
    "\n",
    "> 所有题目著作权归领扣网络所有"
   ]
  },
  {
   "cell_type": "markdown",
   "id": "superior-venice",
   "metadata": {},
   "source": [
    "## 395. 至少有 K 个重复字符的最长子串\n",
    "\n",
    "给你一个字符串`s`和一个整数`k`，请你找出`s`中的最长子串，要求该子串中的每一字符出现次数都不少于`k`，返回这一子串的长度\n",
    "\n",
    "\n",
    "**示例1:**\n",
    "\n",
    "```\n",
    "输入：s = \"aaabb\", k = 3\n",
    "输出：3\n",
    "解释：最长子串为 \"aaa\" ，其中 'a' 重复了 3 次\n",
    "```\n",
    "\n",
    "**示例2:**\n",
    "\n",
    "```\n",
    "输入：s = \"ababbc\", k = 2\n",
    "输出：5\n",
    "解释：最长子串为 \"ababb\" ，其中 'a' 重复了 2 次， 'b' 重复了 3 次\n",
    "```\n",
    "\n",
    "**提示：**\n",
    "\n",
    "- 1 <= s.length <= 10^4\n",
    "- s 仅由小写英文字母组成\n",
    "- 1 <= k <= 10^5"
   ]
  },
  {
   "cell_type": "markdown",
   "id": "rational-hobby",
   "metadata": {},
   "source": [
    "### 395.1. Solution"
   ]
  },
  {
   "cell_type": "markdown",
   "id": "previous-awareness",
   "metadata": {},
   "source": [
    "- Solution1"
   ]
  },
  {
   "cell_type": "code",
   "execution_count": null,
   "id": "suburban-potter",
   "metadata": {},
   "outputs": [],
   "source": [
    "from collections import Counter\n",
    "\n",
    "A = ord('a')\n",
    "\n",
    "def longest_substring1(s: str, k: int) -> int:\n",
    "    \"\"\"\n",
    "    Args:\n",
    "        s(str): 输入的字符串\n",
    "        k(int): 期望的最小字符出现次数\n",
    "\n",
    "    Returns:\n",
    "        int: 符合条件的字符串长度\n",
    "    \"\"\"\n",
    "    if len(s) < k:\n",
    "        return 0\n",
    "\n",
    "    def _dfs(l, r):\n",
    "        fraq = Counter()\n",
    "        for i in range(l, r + 1):\n",
    "            fraq[ord(s[i]) - A] += 1\n",
    "\n",
    "        split = ''\n",
    "        for i in range(0, 26):\n",
    "            if fraq[i] > 0 and fraq[i] < k:\n",
    "                split = chr(i + A)\n",
    "                break\n",
    "\n",
    "        if split == '':\n",
    "            return r - l + 1\n",
    "\n",
    "        i = l\n",
    "        res = 0\n",
    "        while i <= r:\n",
    "            while i <= r and s[i] == split:\n",
    "                i += 1\n",
    "\n",
    "            if i > r:\n",
    "                break\n",
    "\n",
    "            start = i\n",
    "            while i <= r and s[i] != split:\n",
    "                i += 1\n",
    "\n",
    "            length = _dfs(start, i - 1)\n",
    "            res = max((res, length))\n",
    "\n",
    "        return res\n",
    "\n",
    "    return _dfs(0, len(s) - 1)"
   ]
  },
  {
   "cell_type": "markdown",
   "id": "rocky-wheat",
   "metadata": {},
   "source": [
    "- Solution2"
   ]
  },
  {
   "cell_type": "code",
   "execution_count": null,
   "id": "corrected-basketball",
   "metadata": {},
   "outputs": [],
   "source": [
    "def longest_substring2(s: str, k: int) -> int:\n",
    "    \"\"\"\n",
    "    Args:\n",
    "        s(str): 输入的字符串\n",
    "        k(int): 期望的最小字符出现次数\n",
    "\n",
    "    Returns:\n",
    "        int: 符合条件的字符串长度\n",
    "    \"\"\"\n",
    "    if len(s) < k:\n",
    "        return 0\n",
    "\n",
    "    def _dfs(_s):\n",
    "        \"\"\"\n",
    "        分治算法，分段计算\n",
    "        \"\"\"\n",
    "        for c in set(_s):  # 遍历字符串中不重复的每个字符\n",
    "            if _s.count(c) < k:\n",
    "                return max(_dfs(t) for t in _s.split(c))\n",
    "\n",
    "        return len(_s)\n",
    "\n",
    "    return _dfs(s)"
   ]
  },
  {
   "cell_type": "markdown",
   "id": "three-bradley",
   "metadata": {},
   "source": [
    "### 395.2. Test"
   ]
  },
  {
   "cell_type": "markdown",
   "id": "pharmaceutical-advocacy",
   "metadata": {},
   "source": [
    "- Test1"
   ]
  },
  {
   "cell_type": "code",
   "execution_count": null,
   "id": "owned-thermal",
   "metadata": {},
   "outputs": [],
   "source": [
    "%%timeit -n 1 -r 1\n",
    "\n",
    "s = 'aaabb'\n",
    "k = 3\n",
    "res = longest_substring1(s=s, k=k)\n",
    "print('Length of longest substring of word \"{}\" by length {} is: {}'.format(s, k, res))\n",
    "\n",
    "s = 'ababbc'\n",
    "k = 2\n",
    "res = longest_substring1(s=s, k=k)\n",
    "print('Length of longest substring of word \"{}\" by length {} is: {}'.format(s, k, res))"
   ]
  },
  {
   "cell_type": "markdown",
   "id": "radical-rochester",
   "metadata": {},
   "source": [
    "- Test2"
   ]
  },
  {
   "cell_type": "code",
   "execution_count": null,
   "id": "tutorial-asbestos",
   "metadata": {},
   "outputs": [],
   "source": [
    "%%timeit -n 1 -r 1\n",
    "\n",
    "# s = 'aaabb'\n",
    "# k = 3\n",
    "# res = longest_substring2(s=s, k=k)\n",
    "# print('Length of longest substring of word \"{}\" by length {} is: {}'.format(s, k, res))\n",
    "\n",
    "s = 'ababbc'\n",
    "k = 2\n",
    "res = longest_substring2(s=s, k=k)\n",
    "print('Length of longest substring of word \"{}\" by length {} is: {}'.format(s, k, res))"
   ]
  }
 ],
 "metadata": {
  "kernelspec": {
   "display_name": "Python 3",
   "language": "python",
   "name": "python3"
  },
  "language_info": {
   "codemirror_mode": {
    "name": "ipython",
    "version": 3
   },
   "file_extension": ".py",
   "mimetype": "text/x-python",
   "name": "python",
   "nbconvert_exporter": "python",
   "pygments_lexer": "ipython3",
   "version": "3.8.5"
  }
 },
 "nbformat": 4,
 "nbformat_minor": 5
}
