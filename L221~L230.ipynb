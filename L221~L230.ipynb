{
 "cells": [
  {
   "cell_type": "markdown",
   "id": "chemical-spoke",
   "metadata": {},
   "source": [
    "# L221 ~ L230\n",
    "\n",
    "> 所有题目著作权归领扣网络所有"
   ]
  },
  {
   "cell_type": "markdown",
   "id": "informed-keeping",
   "metadata": {},
   "source": [
    "## 224. 基本计算器\n",
    "\n",
    "实现一个基本的计算器来计算一个简单的字符串表达式`s`的值\n",
    "\n",
    "解题思路：\n",
    "1. 题目要求只有`+`, `-`符号，所以无需考虑运算优先级\n",
    "2. 利用“栈”对运算优先级进行处理，从左到右，遇到括号先计算括号内，如图：\n",
    "    ![](./asset/L224_t.jpg)\n",
    "    \n",
    "    1. 栈为了保存左边表达式①的计算结果和运算符③，在计算右边表达式③的结果之后，从栈中取出运算符③和①的结果，再进行计算整个表达式的结果  \n",
    "    2. 当遇到嵌套的括号(比如$(1 + (2 + (3 + 4)))$)，则需在栈顶保留的是最里层嵌套的运算，弹出栈的时候，正好先算的是最里面括号的，再算外边括号的。这种情况时，栈里面保存的是`[\"1\", \"+\", \"2\", \"+\", \"3\", \"+\"]`，然后遇到 4，此时计算的是$3 + 4$，然后算$7 + 2$，再算$9 + 1$\n",
    "\n",
    "\n",
    "**示例1:**\n",
    "\n",
    "```\n",
    "输入：s = \"1 + 1\"\n",
    "输出：2\n",
    "```\n",
    "\n",
    "**示例2:**\n",
    "\n",
    "```\n",
    "输入：s = \" 2-1 + 2 \"\n",
    "输出：3\n",
    "```\n",
    "\n",
    "**示例3:**\n",
    "\n",
    "```\n",
    "输入：s = \"(1+(4+5+2)-3)+(6+8)\"\n",
    "输出：23\n",
    "```\n",
    "\n",
    "**提示：**\n",
    "\n",
    "- 0 <= nums.length <= 10^4\n",
    "- -10^5 <= nums[i] <= 10^5\n",
    "- 0 <= i <= j < nums.length\n",
    "- 最多调用 10^4 次 sumRange 方法"
   ]
  },
  {
   "cell_type": "markdown",
   "id": "stable-advantage",
   "metadata": {},
   "source": [
    "### 224.1. Solution"
   ]
  },
  {
   "cell_type": "code",
   "execution_count": null,
   "id": "integrated-hygiene",
   "metadata": {},
   "outputs": [],
   "source": [
    "from typing import List\n",
    "\n",
    "ZERO = ord('0')\n",
    "\n",
    "def calculate(s: str) -> int:\n",
    "    res = 0\n",
    "\n",
    "    sign = 1  # 初始化符号\n",
    "    opts = [1]  # 初始化栈顶元素\n",
    "    \n",
    "    i = 0\n",
    "    while i < len(s):\n",
    "        c = s[i]\n",
    "        if c == ' ':\n",
    "            i += 1\n",
    "        elif c == '+':\n",
    "            sign = opts[-1]\n",
    "            i += 1\n",
    "        elif c == '-':\n",
    "            sign = -opts[-1]\n",
    "            i += 1\n",
    "        elif c == '(':\n",
    "            opts.append(sign)\n",
    "            i += 1\n",
    "        elif c == ')':\n",
    "            opts.pop()\n",
    "            i += 1\n",
    "        else:\n",
    "            n = 0\n",
    "            while i < len(s) and s[i].isdigit():\n",
    "                n = n * 10 + (ord(s[i]) - ZERO)\n",
    "                i += 1\n",
    "            res += sign * n\n",
    "    return res"
   ]
  },
  {
   "cell_type": "markdown",
   "id": "municipal-fields",
   "metadata": {},
   "source": [
    "### 224.2. Test"
   ]
  },
  {
   "cell_type": "code",
   "execution_count": null,
   "id": "optimum-information",
   "metadata": {},
   "outputs": [],
   "source": [
    "s = '1 + 1'\n",
    "res = calculate(s=s)\n",
    "print('Result of expression \"{}\" is {}'.format(s, res))\n",
    "\n",
    "s = ' 2-1 + 2 '\n",
    "res = calculate(s=s)\n",
    "print('Result of expression \"{}\" is {}'.format(s, res))\n",
    "\n",
    "s = '(1+(4+5+2)-3)+(6+8)'\n",
    "res = calculate(s=s)\n",
    "print('Result of expression \"{}\" is {}'.format(s, res))"
   ]
  }
 ],
 "metadata": {
  "kernelspec": {
   "display_name": "Python 3",
   "language": "python",
   "name": "python3"
  },
  "language_info": {
   "codemirror_mode": {
    "name": "ipython",
    "version": 3
   },
   "file_extension": ".py",
   "mimetype": "text/x-python",
   "name": "python",
   "nbconvert_exporter": "python",
   "pygments_lexer": "ipython3",
   "version": "3.8.5"
  }
 },
 "nbformat": 4,
 "nbformat_minor": 5
}
