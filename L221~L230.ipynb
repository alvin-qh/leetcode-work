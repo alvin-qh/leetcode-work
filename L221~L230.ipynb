{
 "cells": [
  {
   "cell_type": "markdown",
   "id": "acting-sustainability",
   "metadata": {},
   "source": [
    "# L221 ~ L230\n",
    "\n",
    "> 所有题目著作权归领扣网络所有"
   ]
  },
  {
   "cell_type": "markdown",
   "id": "meaning-indian",
   "metadata": {},
   "source": [
    "## 224. 基本计算器\n",
    "\n",
    "实现一个基本的计算器来计算一个简单的字符串表达式`s`的值\n",
    "\n",
    "**示例1:**\n",
    "\n",
    "```\n",
    "输入：s = \"1 + 1\"\n",
    "输出：2\n",
    "```\n",
    "\n",
    "**示例2:**\n",
    "\n",
    "```\n",
    "输入：s = \" 2-1 + 2 \"\n",
    "输出：3\n",
    "```\n",
    "\n",
    "**示例3:**\n",
    "\n",
    "```\n",
    "输入：s = \"(1+(4+5+2)-3)+(6+8)\"\n",
    "输出：23\n",
    "```\n",
    "\n",
    "**提示：**\n",
    "\n",
    "- 0 <= nums.length <= 10^4\n",
    "- -10^5 <= nums[i] <= 10^5\n",
    "- 0 <= i <= j < nums.length\n",
    "- 最多调用 10^4 次 sumRange 方法"
   ]
  },
  {
   "cell_type": "markdown",
   "id": "separated-recommendation",
   "metadata": {},
   "source": [
    "### 224.1. Solution"
   ]
  },
  {
   "cell_type": "code",
   "execution_count": 1,
   "id": "challenging-majority",
   "metadata": {},
   "outputs": [],
   "source": [
    "from typing import List\n",
    "\n",
    "def calculate(s: str) -> int:\n",
    "    res = 0\n",
    "    for c in s:\n",
    "        if c == ' ':\n",
    "            continue\n",
    "    return res"
   ]
  },
  {
   "cell_type": "markdown",
   "id": "coral-orleans",
   "metadata": {},
   "source": [
    "### 224.2. Test"
   ]
  },
  {
   "cell_type": "code",
   "execution_count": 2,
   "id": "incoming-walter",
   "metadata": {},
   "outputs": [
    {
     "name": "stdout",
     "output_type": "stream",
     "text": [
      "Result of expression \"1 + 1\" is 0\n"
     ]
    }
   ],
   "source": [
    "s = '1 + 1'\n",
    "res = calculate(s=s)\n",
    "print('Result of expression \"{}\" is {}'.format(s, res))"
   ]
  }
 ],
 "metadata": {
  "kernelspec": {
   "display_name": "Python 3",
   "language": "python",
   "name": "python3"
  },
  "language_info": {
   "codemirror_mode": {
    "name": "ipython",
    "version": 3
   },
   "file_extension": ".py",
   "mimetype": "text/x-python",
   "name": "python",
   "nbconvert_exporter": "python",
   "pygments_lexer": "ipython3",
   "version": "3.8.5"
  }
 },
 "nbformat": 4,
 "nbformat_minor": 5
}
