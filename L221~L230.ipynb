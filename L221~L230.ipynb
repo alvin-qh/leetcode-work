{
 "cells": [
  {
   "cell_type": "markdown",
   "id": "complicated-confidence",
   "metadata": {},
   "source": [
    "# L221 ~ L230\n",
    "\n",
    "> 所有题目著作权归领扣网络所有"
   ]
  },
  {
   "cell_type": "markdown",
   "id": "gentle-speed",
   "metadata": {},
   "source": [
    "## 224. 基本计算器\n",
    "\n",
    "实现一个基本的计算器来计算一个简单的字符串表达式`s`的值\n",
    "\n",
    "**示例1:**\n",
    "\n",
    "```\n",
    "输入：s = \"1 + 1\"\n",
    "输出：2\n",
    "```\n",
    "\n",
    "**示例2:**\n",
    "\n",
    "```\n",
    "输入：s = \" 2-1 + 2 \"\n",
    "输出：3\n",
    "```\n",
    "\n",
    "**示例3:**\n",
    "\n",
    "```\n",
    "输入：s = \"(1+(4+5+2)-3)+(6+8)\"\n",
    "输出：23\n",
    "```\n",
    "\n",
    "**提示：**\n",
    "\n",
    "- 0 <= nums.length <= 10^4\n",
    "- -10^5 <= nums[i] <= 10^5\n",
    "- 0 <= i <= j < nums.length\n",
    "- 最多调用 10^4 次 sumRange 方法"
   ]
  },
  {
   "cell_type": "markdown",
   "id": "foreign-dividend",
   "metadata": {},
   "source": [
    "### 224.1. Solution"
   ]
  },
  {
   "cell_type": "code",
   "execution_count": null,
   "id": "british-correspondence",
   "metadata": {},
   "outputs": [],
   "source": [
    "ZERO = ord('0')\n",
    "\n",
    "def calculate(s: str) -> int:\n",
    "    \"\"\"\n",
    "    算法思路:\n",
    "        1. 由于只有'+', '-'号，所以无需考虑运算符优先级\n",
    "        2. 对于'()'内的结果，可以通过结合律将括号系数算入括号内，以消除括号优先级，例如 1 - (1 + 2 - 3) => 1 - 1 - 2 + 3\n",
    "    Args:\n",
    "        s(str): 输入的表达式\n",
    "\n",
    "    Returns:\n",
    "        int: 返回的表达式结果\n",
    "    \"\"\"\n",
    "    res = 0\n",
    "\n",
    "    sign = 1  # 初始化符号\n",
    "    opts = [1]  # 初始化栈顶元素\n",
    "\n",
    "    i = 0\n",
    "    while i < len(s):\n",
    "        c = s[i]\n",
    "        if c == ' ':  # 跳过空格\n",
    "            i += 1\n",
    "        elif c == '+':\n",
    "            sign = opts[-1]  # 若 '(' 前为 '+' 号，则括号中所有符号不变\n",
    "            i += 1\n",
    "        elif c == '-':\n",
    "            sign = -opts[-1]  # 若 '(' 前为 '-' 号，则括号中所有符号取反\n",
    "            i += 1\n",
    "        elif c == '(':\n",
    "            opts.append(sign)  # 把括号前的符号入栈\n",
    "            i += 1\n",
    "        elif c == ')':  # 把括号前的符号出栈\n",
    "            opts.pop()\n",
    "            i += 1\n",
    "        else:\n",
    "            # 计算一组数字和前一个符号的结果\n",
    "            n = 0\n",
    "            while i < len(s) and s[i].isdigit():\n",
    "                n = n * 10 + (ord(s[i]) - ZERO)\n",
    "                i += 1\n",
    "\n",
    "            # 计算和\n",
    "            res += sign * n\n",
    "    return res"
   ]
  },
  {
   "cell_type": "markdown",
   "id": "egyptian-cowboy",
   "metadata": {},
   "source": [
    "### 224.2. Test"
   ]
  },
  {
   "cell_type": "code",
   "execution_count": null,
   "id": "ordinary-compilation",
   "metadata": {},
   "outputs": [],
   "source": [
    "s = '1 + 1'\n",
    "res = calculate(s=s)\n",
    "print('Result of expression \"{}\" is {}'.format(s, res))\n",
    "\n",
    "s = ' 2-1 + 2 '\n",
    "res = calculate(s=s)\n",
    "print('Result of expression \"{}\" is {}'.format(s, res))\n",
    "\n",
    "s = '(1+(4+5+2)-3)+(6+8)'\n",
    "res = calculate(s=s)\n",
    "print('Result of expression \"{}\" is {}'.format(s, res))"
   ]
  }
 ],
 "metadata": {
  "kernelspec": {
   "display_name": "Python 3",
   "language": "python",
   "name": "python3"
  },
  "language_info": {
   "codemirror_mode": {
    "name": "ipython",
    "version": 3
   },
   "file_extension": ".py",
   "mimetype": "text/x-python",
   "name": "python",
   "nbconvert_exporter": "python",
   "pygments_lexer": "ipython3",
   "version": "3.8.5"
  }
 },
 "nbformat": 4,
 "nbformat_minor": 5
}
