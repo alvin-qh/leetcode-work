{
 "cells": [
  {
   "cell_type": "markdown",
   "id": "amended-orleans",
   "metadata": {},
   "source": [
    "# L861 ~ L870\n",
    "\n",
    "> 所有题目著作权归领扣网络所有"
   ]
  },
  {
   "cell_type": "markdown",
   "id": "intensive-laptop",
   "metadata": {},
   "source": [
    "## 867. 转置矩阵\n",
    "\n",
    "给你一个二维整数数组`matrix`， 返回`matrix`的**转置矩阵**\n",
    "\n",
    "矩阵的**转置**是指将矩阵的主对角线翻转，交换矩阵的行索引与列索引\n",
    "\n",
    "![image](asset/867_t.png)\n",
    "\n",
    "说明：你不能倾斜容器。\n",
    "\n",
    "**示例1:**\n",
    "\n",
    "```\n",
    "输入：matrix = [[1,2,3],[4,5,6],[7,8,9]]\n",
    "输出：[[1,4,7],[2,5,8],[3,6,9]]\n",
    "```\n",
    "\n",
    "**示例2：**\n",
    "\n",
    "```\n",
    "输入：matrix = [[1,2,3],[4,5,6]]\n",
    "输出：[[1,4],[2,5],[3,6]]\n",
    "```\n",
    "\n",
    "**提示：**\n",
    "\n",
    "- `m == matrix.length`\n",
    "- `n == matrix[i].length`\n",
    "- `1 <= m, n <= 1000`\n",
    "- `1 <= m * n <= 10^5`\n",
    "- `-10^9 <= matrix[i][j] <= 10^9`"
   ]
  },
  {
   "cell_type": "markdown",
   "id": "spatial-venue",
   "metadata": {},
   "source": [
    "### 867.1. Solution"
   ]
  },
  {
   "cell_type": "code",
   "execution_count": null,
   "id": "common-maple",
   "metadata": {},
   "outputs": [],
   "source": [
    "from typing import List\n",
    "\n",
    "def matrix_transpose(matrix: List[List[int]]) -> List[List[int]]:\n",
    "    \"\"\"\n",
    "    Args:\n",
    "        matrix(List[List[int]]): 输入矩阵\n",
    "\n",
    "    Returns:\n",
    "        List[List[int]]: 转置后的矩阵\n",
    "    \"\"\"\n",
    "    m, n = len(matrix), len(matrix[0])\n",
    "    res = [[0] * m for _ in range(0, n)]\n",
    "    for x in range(0, m):\n",
    "        for y in range(0, n):\n",
    "            res[y][x] = matrix[x][y]\n",
    "            print('{},{}-{}'.format(y, x, res))\n",
    "\n",
    "    return res"
   ]
  },
  {
   "cell_type": "markdown",
   "id": "standing-citizen",
   "metadata": {},
   "source": [
    "### 867.2. Test"
   ]
  },
  {
   "cell_type": "code",
   "execution_count": null,
   "id": "curious-portrait",
   "metadata": {},
   "outputs": [],
   "source": [
    "%%timeit -n 1 -r 1\n",
    "\n",
    "matrix = [[1, 2, 3], [4, 5, 6], [7, 8, 9]]\n",
    "r = matrix_transpose(matrix=matrix)\n",
    "print('Transpose of matrix {} is: {}'.format(matrix, r))\n",
    "\n",
    "matrix = [[1, 2, 3], [4, 5, 6]]\n",
    "r = matrix_transpose(matrix=matrix)\n",
    "print('Transpose of matrix {} is: {}'.format(matrix, r))"
   ]
  }
 ],
 "metadata": {
  "kernelspec": {
   "display_name": "Python 3",
   "language": "python",
   "name": "python3"
  },
  "language_info": {
   "codemirror_mode": {
    "name": "ipython",
    "version": 3
   },
   "file_extension": ".py",
   "mimetype": "text/x-python",
   "name": "python",
   "nbconvert_exporter": "python",
   "pygments_lexer": "ipython3",
   "version": "3.8.5"
  }
 },
 "nbformat": 4,
 "nbformat_minor": 5
}
