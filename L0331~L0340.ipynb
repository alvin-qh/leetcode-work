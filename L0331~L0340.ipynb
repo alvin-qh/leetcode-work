{
 "cells": [
  {
   "cell_type": "markdown",
   "id": "invalid-championship",
   "metadata": {},
   "source": [
    "# L331 ~ L340\n",
    "\n",
    "> 所有题目著作权归领扣网络所有"
   ]
  },
  {
   "cell_type": "markdown",
   "id": "single-friendship",
   "metadata": {},
   "source": [
    "## 331. 验证二叉树的前序序列化\n",
    "\n",
    "序列化二叉树的一种方法是使用前序遍历。当我们遇到一个非空节点时，我们可以记录下这个节点的值。如果它是一个空节点，我们可以使用一个标记值记录，例如`#`\n",
    "\n",
    "```\n",
    "     _9_\n",
    "    /   \\\n",
    "   3     2\n",
    "  / \\   / \\\n",
    " 4   1  #  6\n",
    "/ \\ / \\   / \\\n",
    "# # # #   # #\n",
    "```\n",
    "\n",
    "例如，上面的二叉树可以被序列化为字符串`9,3,4,#,#,1,#,#,2,#,6,#,#`，其中`#`代表一个空节点  \n",
    "给定一串以逗号分隔的序列，验证它是否是正确的二叉树的前序序列化。编写一个在不重构树的条件下的可行算法  \n",
    "每个以逗号分隔的字符或为一个整数或为一个表示`null`指针的`#`  \n",
    "你可以认为输入格式总是有效的，例如它永远不会包含两个连续的逗号，比如`\"1,,3\"`\n",
    "\n",
    "解题思路：\n",
    "\n",
    "我们可以定义一个概念，叫做槽位。一个槽位可以被看作「当前二叉树中正在等待被节点填充」的那些位置  \n",
    "二叉树的建立也伴随着槽位数量的变化。每当遇到一个节点时：\n",
    "\n",
    "- 如果遇到了空节点，则要消耗一个槽位；\n",
    "- 如果遇到了非空节点，则除了消耗一个槽位外，还要再补充两个槽位\n",
    "\n",
    "此外，还需要将根节点作为特殊情况处理\n",
    "\n",
    "![](./asset/L331_t.png)\n",
    "\n",
    "我们使用栈来维护槽位的变化。栈中的每个元素，代表了对应节点处**剩余槽位的数量**，而栈顶元素就对应着下一步可用的槽位数量。当遇到空节点时，仅将栈顶元素减 `1`；当遇到非空节点时，将栈顶元素减`1`后，再向栈中压入一个`2`。无论何时，如果栈顶元素变为`0`，就立刻将栈顶弹出  \n",
    "遍历结束后，若栈为空，说明没有待填充的槽位，因此是一个合法序列；否则若栈不为空，则序列不合法。此外，在遍历的过程中，若槽位数量不足，则序列不合法\n",
    "\n",
    "\n",
    "**示例1:**\n",
    "\n",
    "```\n",
    "输入: \"9,3,4,#,#,1,#,#,2,#,6,#,#\"\n",
    "输出: true\n",
    "```\n",
    "\n",
    "**示例2:**\n",
    "\n",
    "```\n",
    "输入: \"1,#\"\n",
    "输出: false\n",
    "```\n",
    "\n",
    "**示例3:**\n",
    "\n",
    "```\n",
    "输入: \"9,#,#,1\"\n",
    "输出: false\n",
    "```"
   ]
  },
  {
   "cell_type": "markdown",
   "id": "responsible-jackson",
   "metadata": {},
   "source": [
    "### 331.1. Solution"
   ]
  },
  {
   "cell_type": "markdown",
   "id": "transparent-bradford",
   "metadata": {},
   "source": [
    "- Sulution 1"
   ]
  },
  {
   "cell_type": "code",
   "execution_count": null,
   "id": "owned-warrant",
   "metadata": {},
   "outputs": [],
   "source": [
    "def is_valid_serialization1(preorder: str) -> bool:\n",
    "    \"\"\"\n",
    "    算法思路:\n",
    "\n",
    "\n",
    "    Args:\n",
    "        preorder(str): 输入的二叉树前序序列\n",
    "\n",
    "    Returns:\n",
    "        bool: 输入的前序序列是否正确\n",
    "    \"\"\"\n",
    "    i = 0\n",
    "    stack = [1]\n",
    "    while i < len(preorder):\n",
    "        if len(stack) == 0:\n",
    "            return False\n",
    "\n",
    "        if preorder[i] == ',':\n",
    "            i += 1\n",
    "        elif preorder[i] == '#':  # 空节点\n",
    "            stack[-1] -= 1\n",
    "            if stack[-1] == 0:\n",
    "                stack.pop()\n",
    "            i += 1\n",
    "        else:\n",
    "            while i < len(preorder) and preorder[i] != ',':\n",
    "                i += 1\n",
    "\n",
    "            stack[-1] -= 1\n",
    "            if stack[-1] == 0:\n",
    "                stack.pop()\n",
    "\n",
    "            stack.append(2)\n",
    "\n",
    "    return len(stack) == 0"
   ]
  },
  {
   "cell_type": "markdown",
   "id": "civilian-fight",
   "metadata": {},
   "source": [
    "- Sulution 2"
   ]
  },
  {
   "cell_type": "code",
   "execution_count": null,
   "id": "geological-married",
   "metadata": {},
   "outputs": [],
   "source": [
    "def is_valid_serialization2(preorder: str) -> bool:\n",
    "    \"\"\"\n",
    "    算法思路:\n",
    "        和 Sulution 1 思路一致，将栈的使用改为计数器，代表栈中所有元素之和\n",
    "\n",
    "    Args:\n",
    "        preorder(str): 输入的二叉树前序序列\n",
    "\n",
    "    Returns:\n",
    "        bool: 输入的前序序列是否正确\n",
    "    \"\"\"\n",
    "    i = 0\n",
    "    slots = 1\n",
    "    while i < len(preorder):\n",
    "        if slots == 0:\n",
    "            return False\n",
    "\n",
    "        if preorder[i] == ',':\n",
    "            i += 1\n",
    "        elif preorder[i] == '#':  # 空节点\n",
    "            slots -= 1\n",
    "            i += 1\n",
    "        else:\n",
    "            while i < len(preorder) and preorder[i] != ',':\n",
    "                i += 1\n",
    "            slots += 1  # slots = slots - 1 + 2\n",
    "\n",
    "    return slots == 0"
   ]
  },
  {
   "cell_type": "markdown",
   "id": "celtic-missile",
   "metadata": {},
   "source": [
    "- Sulution 3"
   ]
  },
  {
   "cell_type": "code",
   "execution_count": null,
   "id": "nearby-equipment",
   "metadata": {},
   "outputs": [],
   "source": [
    "def is_valid_serialization3(preorder: str) -> bool:\n",
    "    \"\"\"\n",
    "    算法思路:\n",
    "        参考 fuxuemingzhu 的答案（https://leetcode-cn.com/problems/verify-preorder-serialization-of-a-binary-tree/solution/pai-an-jiao-jue-de-liang-chong-jie-fa-zh-66nt/）\n",
    "        在树（甚至图）中，所有节点的入度之和等于出度之和。可以根据这个特点判断输入序列是否为有效的\n",
    "        在一棵二叉树中：\n",
    "            - 每个空节点（\"#\"）会提供 0 个出度和 1 个入度\n",
    "            - 每个非空节点会提供 2 个出度和 1 个入度\n",
    "            - 我们只要把字符串遍历一次，每个节点都累加 diff = 出度 - 入度\n",
    "              在遍历到任何一个节点的时候，要求 diff >= 0，原因是还没遍历到该节点的子节点，所以此时的出度应该大于等于入度\n",
    "              当所有节点遍历完成之后，整棵树的 diff == 0\n",
    "\n",
    "        为什么下面的代码中 diff 的初始化为 1？\n",
    "            因为，加入一个非空节点时，都会先减去一个入度，再加上两个出度。但是由于根节点没有父节点，所以其入度为 0，出度为 2\n",
    "            因此 diff 初始化为 1，是为了在加入根节点的时候，先减去一个入度，再加上两个出度，此时 diff 正好应该是2\n",
    "\n",
    "    Args:\n",
    "        preorder(str): 输入的二叉树前序序列\n",
    "\n",
    "    Returns:\n",
    "        bool: 输入的前序序列是否正确\n",
    "    \"\"\"\n",
    "    nodes = preorder.split(',')\n",
    "    diff = 1\n",
    "    for node in nodes:\n",
    "        diff -= 1\n",
    "\n",
    "        if diff < 0:\n",
    "            return False\n",
    "        if node != '#':\n",
    "            diff += 2\n",
    "\n",
    "    return diff == 0"
   ]
  },
  {
   "cell_type": "markdown",
   "id": "recreational-configuration",
   "metadata": {},
   "source": [
    "### 331.2. Test"
   ]
  },
  {
   "cell_type": "markdown",
   "id": "prime-mailing",
   "metadata": {},
   "source": [
    "- Test 1"
   ]
  },
  {
   "cell_type": "code",
   "execution_count": null,
   "id": "hundred-bangkok",
   "metadata": {},
   "outputs": [],
   "source": [
    "preorder = '9,3,4,#,#,1,#,#,2,#,6,#,#'\n",
    "res = is_valid_serialization1(preorder=preorder)\n",
    "print('The serialization \"{}\" is valid? {}'.format(preorder, res))\n",
    "\n",
    "preorder = '1,#'\n",
    "res = is_valid_serialization1(preorder=preorder)\n",
    "print('The serialization \"{}\" is valid? {}'.format(preorder, res))\n",
    "\n",
    "preorder = '9,#,#,1'\n",
    "res = is_valid_serialization1(preorder=preorder)\n",
    "print('The serialization \"{}\" is valid? {}'.format(preorder, res))"
   ]
  },
  {
   "cell_type": "markdown",
   "id": "aboriginal-atlantic",
   "metadata": {},
   "source": [
    "- Test 2"
   ]
  },
  {
   "cell_type": "code",
   "execution_count": null,
   "id": "floating-married",
   "metadata": {},
   "outputs": [],
   "source": [
    "preorder = '9,3,4,#,#,1,#,#,2,#,6,#,#'\n",
    "res = is_valid_serialization2(preorder=preorder)\n",
    "print('The serialization \"{}\" is valid? {}'.format(preorder, res))\n",
    "\n",
    "preorder = '1,#'\n",
    "res = is_valid_serialization2(preorder=preorder)\n",
    "print('The serialization \"{}\" is valid? {}'.format(preorder, res))\n",
    "\n",
    "preorder = '9,#,#,1'\n",
    "res = is_valid_serialization2(preorder=preorder)\n",
    "print('The serialization \"{}\" is valid? {}'.format(preorder, res))"
   ]
  },
  {
   "cell_type": "markdown",
   "id": "devoted-deposit",
   "metadata": {},
   "source": [
    "- Test 3"
   ]
  },
  {
   "cell_type": "code",
   "execution_count": null,
   "id": "fossil-prototype",
   "metadata": {},
   "outputs": [],
   "source": [
    "preorder = '9,3,4,#,#,1,#,#,2,#,6,#,#'\n",
    "res = is_valid_serialization3(preorder=preorder)\n",
    "print('The serialization \"{}\" is valid? {}'.format(preorder, res))\n",
    "\n",
    "preorder = '1,#'\n",
    "res = is_valid_serialization3(preorder=preorder)\n",
    "print('The serialization \"{}\" is valid? {}'.format(preorder, res))\n",
    "\n",
    "preorder = '9,#,#,1'\n",
    "res = is_valid_serialization3(preorder=preorder)\n",
    "print('The serialization \"{}\" is valid? {}'.format(preorder, res))"
   ]
  }
 ],
 "metadata": {
  "kernelspec": {
   "display_name": "Python 3",
   "language": "python",
   "name": "python3"
  },
  "language_info": {
   "codemirror_mode": {
    "name": "ipython",
    "version": 3
   },
   "file_extension": ".py",
   "mimetype": "text/x-python",
   "name": "python",
   "nbconvert_exporter": "python",
   "pygments_lexer": "ipython3",
   "version": "3.8.5"
  }
 },
 "nbformat": 4,
 "nbformat_minor": 5
}
