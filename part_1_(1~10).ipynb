{
 "cells": [
  {
   "cell_type": "markdown",
   "id": "sophisticated-professional",
   "metadata": {},
   "source": [
    "# Part 1 (1~10)"
   ]
  },
  {
   "cell_type": "code",
   "execution_count": 22,
   "id": "rough-costa",
   "metadata": {},
   "outputs": [],
   "source": [
    "import io\n",
    "from typing import (List, Iterable)"
   ]
  },
  {
   "cell_type": "markdown",
   "id": "crucial-understanding",
   "metadata": {},
   "source": [
    "## 1. 两数之和"
   ]
  },
  {
   "cell_type": "markdown",
   "id": "working-climate",
   "metadata": {},
   "source": [
    "### 1.1. Summary"
   ]
  },
  {
   "cell_type": "markdown",
   "id": "assigned-microwave",
   "metadata": {},
   "source": [
    "#### 描述\n",
    "\n",
    "给定一个整数数组`nums`和一个目标值`target`，请你在该数组中找出和为目标值的那**两个**整数，并返回他们的数组下标。\n",
    "\n",
    "你可以假设每种输入只会对应一个答案。但是，你不能重复利用这个数组中同样的元素。\n",
    "\n",
    "#### 示例\n",
    "\n",
    "给定`nums = [2, 7, 11, 15]`, `target = 9`\n",
    "    \n",
    "因为`nums[0] + nums[1] = 2 + 7 = 9`, 所以返回`[0, 1]`"
   ]
  },
  {
   "cell_type": "markdown",
   "id": "incorporate-courtesy",
   "metadata": {},
   "source": [
    "### 1.2. Solution\n",
    "\n",
    "#### Code"
   ]
  },
  {
   "cell_type": "code",
   "execution_count": null,
   "id": "dated-quick",
   "metadata": {},
   "outputs": [],
   "source": [
    "def two_sum(nums: List[int], target: int) -> List[int]:\n",
    "    s_nums = {}\n",
    "    for idx, val in enumerate(nums):\n",
    "        if target - val in s_nums:\n",
    "            return [min(idx, s_nums[target - val]), max(idx, s_nums[target - val])]\n",
    "        else:\n",
    "            s_nums[val] = idx\n",
    "    return None"
   ]
  },
  {
   "cell_type": "markdown",
   "id": "italian-medicine",
   "metadata": {},
   "source": [
    "#### Test"
   ]
  },
  {
   "cell_type": "code",
   "execution_count": null,
   "id": "existing-jenny",
   "metadata": {},
   "outputs": [],
   "source": [
    "nums = [2, 7, 11, 15]\n",
    "\n",
    "target = 9\n",
    "res = two_sum(nums=nums, target=target)\n",
    "print('{} + {} = {}, result is: {}'.format(nums[res[0]], nums[res[1]], target, res))\n",
    "\n",
    "target = 22\n",
    "res = two_sum(nums=nums, target=target)\n",
    "print('{} + {} = {}, result is: {}'.format(nums[res[0]], nums[res[1]], target, res))"
   ]
  },
  {
   "cell_type": "markdown",
   "id": "patient-rocket",
   "metadata": {},
   "source": [
    "## 2. 两数相加"
   ]
  },
  {
   "cell_type": "markdown",
   "id": "assumed-clearance",
   "metadata": {},
   "source": [
    "### 2.1. Summary"
   ]
  },
  {
   "cell_type": "markdown",
   "id": "buried-holder",
   "metadata": {},
   "source": [
    "#### 描述\n",
    "\n",
    "给出两个**非空**的链表用来表示两个非负的整数。其中，它们各自的位数是按照**逆序**的方式存储的，并且它们的每个节点只能存储**一位**数字。\n",
    "\n",
    "如果，我们将这两个数相加起来，则会返回一个新的链表来表示它们的和。\n",
    "\n",
    "您可以假设除了数字`0`之外，这两个数都不会以`0`开头。\n",
    "\n",
    "#### 示例\n",
    "\n",
    "输入: `(2 -> 4 -> 3) + (5 -> 6 -> 4)`\n",
    "\n",
    "输出: `7 -> 0 -> 8`\n",
    "\n",
    "原因: `342 + 465 = 807`"
   ]
  },
  {
   "cell_type": "markdown",
   "id": "prepared-species",
   "metadata": {},
   "source": [
    "### 2.2. Solution\n",
    "\n",
    "#### Code"
   ]
  },
  {
   "cell_type": "code",
   "execution_count": 20,
   "id": "altered-deployment",
   "metadata": {},
   "outputs": [],
   "source": [
    "class ListNode:\n",
    "    def __init__(self, x):\n",
    "        self.val = x\n",
    "        self.next = None\n",
    "\n",
    "    @classmethod\n",
    "    def of(cls, it: Iterable):\n",
    "        t_n = n = ListNode(0)\n",
    "        for e in it:\n",
    "            n.next = cls(e)\n",
    "            n = n.next\n",
    "        return t_n.next\n",
    "\n",
    "    def __str__(self):\n",
    "        with io.StringIO() as s:\n",
    "            s.write('[')\n",
    "            t_n = self\n",
    "            while t_n:\n",
    "                if t_n != self:\n",
    "                    s.write(', ')\n",
    "                s.write(str(t_n.val))\n",
    "                t_n = t_n.next\n",
    "            s.write(']')\n",
    "            return s.getvalue()\n",
    "\n",
    "    def __eq__(self, other):\n",
    "        if not isinstance(other, ListNode):\n",
    "            return False\n",
    "\n",
    "        l1, l2 = self, other\n",
    "        while l1 and l2:\n",
    "            if l1.val != l2.val:\n",
    "                return False\n",
    "\n",
    "            l1 = l1.next\n",
    "            l2 = l2.next\n",
    "\n",
    "        return l1 is None and l2 is None\n",
    "    \n",
    "def add_two_nums(l1: ListNode, l2: ListNode) -> ListNode:\n",
    "    top = l3 = ListNode(-1)\n",
    "    carry = 0\n",
    "\n",
    "    while l1 or l2:\n",
    "        a = l1.val if l1 else 0\n",
    "        b = l2.val if l2 else 0\n",
    "        c = a + b + carry\n",
    "\n",
    "        carry = c // 10\n",
    "        l3.next = ListNode(c % 10)\n",
    "\n",
    "        l1 = l1.next if l1 else None\n",
    "        l2 = l2.next if l2 else None\n",
    "        l3 = l3.next\n",
    "\n",
    "    if carry > 0:\n",
    "        l3.next = ListNode(carry)\n",
    "\n",
    "    return top.next"
   ]
  },
  {
   "cell_type": "markdown",
   "id": "fatal-resource",
   "metadata": {},
   "source": [
    "#### Test"
   ]
  },
  {
   "cell_type": "code",
   "execution_count": 23,
   "id": "straight-inflation",
   "metadata": {},
   "outputs": [
    {
     "name": "stdout",
     "output_type": "stream",
     "text": [
      "[7, 0, 8]\n"
     ]
    }
   ],
   "source": [
    "l1 = ListNode.of([2, 4, 3])\n",
    "l2 = ListNode.of([5, 6, 4])\n",
    "res = add_two_nums(l1, l2)\n",
    "print('{}'.format(res))\n",
    "\n",
    "l1 = ListNode.of([0])\n",
    "l2 = ListNode.of([0])\n",
    "assert  == ListNode.of([0])\n",
    "\n",
    "l1 = ListNode.of([9])\n",
    "l2 = ListNode.of([1])\n",
    "assert add_two_nums(l1, l2) == ListNode.of([0, 1])"
   ]
  },
  {
   "cell_type": "code",
   "execution_count": null,
   "id": "opened-bracket",
   "metadata": {},
   "outputs": [],
   "source": []
  }
 ],
 "metadata": {
  "kernelspec": {
   "display_name": "Python 3",
   "language": "python",
   "name": "python3"
  },
  "language_info": {
   "codemirror_mode": {
    "name": "ipython",
    "version": 3
   },
   "file_extension": ".py",
   "mimetype": "text/x-python",
   "name": "python",
   "nbconvert_exporter": "python",
   "pygments_lexer": "ipython3",
   "version": "3.8.5"
  }
 },
 "nbformat": 4,
 "nbformat_minor": 5
}
