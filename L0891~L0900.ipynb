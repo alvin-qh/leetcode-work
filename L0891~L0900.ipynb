{
 "cells": [
  {
   "cell_type": "markdown",
   "id": "informative-wrestling",
   "metadata": {},
   "source": [
    "# L891 ~ L900\n",
    "\n",
    "> 所有题目著作权归领扣网络所有"
   ]
  },
  {
   "cell_type": "markdown",
   "id": "inappropriate-conditions",
   "metadata": {},
   "source": [
    "## 896. 单调数列\n",
    "\n",
    "如果数组是单调递增或单调递减的，那么它是单调的  \n",
    "如果对于所有`i <= j`，`A[i] <= A[j]`，那么数组`A`是单调递增的。 如果对于所有`i <= j`，`A[i] >= A[j]`，那么数组`A`是单调递减的\n",
    "\n",
    "当给定的数组`A`是单调数组时返回`True`，否则返回`False`\n",
    "\n",
    "\n",
    "**示例1：**\n",
    "\n",
    "```\n",
    "输入：[1, 2, 2, 3]\n",
    "输出：True\n",
    "```\n",
    "\n",
    "**示例2：**\n",
    "\n",
    "```\n",
    "输入：[6, 5, 4, 4]\n",
    "输出：True\n",
    "```\n",
    "\n",
    "**示例3：**\n",
    "\n",
    "```\n",
    "输入：[1, 3, 2]\n",
    "输出：False\n",
    "```\n",
    "\n",
    "**示例4：**\n",
    "\n",
    "```\n",
    "输入：[1, 2, 4, 5]\n",
    "输出：True\n",
    "```\n",
    "\n",
    "**示例5：**\n",
    "\n",
    "```\n",
    "输入：[1, 1, 1]\n",
    "输出：True\n",
    "```\n",
    "\n",
    "**提示：**\n",
    "\n",
    "- `1 <= A.length <= 50000`\n",
    "- `-100000 <= A[i] <= 100000`"
   ]
  },
  {
   "cell_type": "markdown",
   "id": "identified-anniversary",
   "metadata": {},
   "source": [
    "### 896.1. Solution"
   ]
  },
  {
   "cell_type": "code",
   "execution_count": null,
   "id": "industrial-grill",
   "metadata": {},
   "outputs": [],
   "source": [
    "def is_monotonic(a: [int]) -> bool:\n",
    "    t = 0\n",
    "    if a[0] < a[-1]:\n",
    "        t = 1\n",
    "    elif a[0] > a[-1]:\n",
    "        t = -1\n",
    "\n",
    "    i, j = 0, 1\n",
    "    while j < len(a):\n",
    "        if t > 0 and a[i] > a[j]:\n",
    "            return False\n",
    "\n",
    "        if t < 0 and a[i] < a[j]:\n",
    "            return False\n",
    "\n",
    "        if t == 0 and a[i] != a[j]:\n",
    "            return False\n",
    "\n",
    "        i += 1\n",
    "        j += 1\n",
    "\n",
    "    return True"
   ]
  },
  {
   "cell_type": "markdown",
   "id": "presidential-enzyme",
   "metadata": {},
   "source": [
    "### 896.2. Test"
   ]
  },
  {
   "cell_type": "code",
   "execution_count": null,
   "id": "occupational-hunter",
   "metadata": {},
   "outputs": [],
   "source": [
    "a = [1, 2, 2, 3]\n",
    "res = is_monotonic(a=a)\n",
    "print('The list {} is monotonic? {}'.format(a, res))\n",
    "\n",
    "a = [6, 5, 4, 4]\n",
    "res = is_monotonic(a=a)\n",
    "print('The list {} is monotonic? {}'.format(a, res))\n",
    "\n",
    "a = [1, 3, 2]\n",
    "res = is_monotonic(a=a)\n",
    "print('The list {} is monotonic? {}'.format(a, res))\n",
    "\n",
    "a = [1, 2, 4, 5]\n",
    "res = is_monotonic(a=a)\n",
    "print('The list {} is monotonic? {}'.format(a, res))\n",
    "\n",
    "a = [1, 1, 1]\n",
    "res = is_monotonic(a=a)\n",
    "print('The list {} is monotonic? {}'.format(a, res))"
   ]
  }
 ],
 "metadata": {
  "kernelspec": {
   "display_name": "Python 3",
   "language": "python",
   "name": "python3"
  },
  "language_info": {
   "codemirror_mode": {
    "name": "ipython",
    "version": 3
   },
   "file_extension": ".py",
   "mimetype": "text/x-python",
   "name": "python",
   "nbconvert_exporter": "python",
   "pygments_lexer": "ipython3",
   "version": "3.8.5"
  }
 },
 "nbformat": 4,
 "nbformat_minor": 5
}
