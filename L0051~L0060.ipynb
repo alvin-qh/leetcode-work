{
 "cells": [
  {
   "cell_type": "markdown",
   "id": "certified-saint",
   "metadata": {},
   "source": [
    "# L51 ~ L60\n",
    "\n",
    "> 所有题目著作权归领扣网络所有"
   ]
  },
  {
   "cell_type": "markdown",
   "id": "endangered-reach",
   "metadata": {},
   "source": [
    "## 59. 螺旋矩阵 II\n",
    "\n",
    "给你一个正整数`n` ，生成一个包含 $1$ 到 $n^2$ 所有元素，且元素按顺时针顺序螺旋排列的 $n\\times n$ 正方形矩阵`matrix`\n",
    "\n",
    "**示例1:**\n",
    "\n",
    "![](asset/59_q1.jpg)\n",
    "\n",
    "```\n",
    "输入：n = 3\n",
    "输出：[[1,2,3],[8,9,4],[7,6,5]]\n",
    "```\n",
    "\n",
    "**示例2：**\n",
    "\n",
    "```\n",
    "输入：n = 1\n",
    "输出：[[1]]\n",
    "```\n",
    "\n",
    "**提示：**\n",
    "\n",
    "- `1 <= n <= 20`"
   ]
  },
  {
   "cell_type": "markdown",
   "id": "approved-midwest",
   "metadata": {},
   "source": [
    "### 59.1. Solution"
   ]
  },
  {
   "cell_type": "markdown",
   "id": "outer-notion",
   "metadata": {},
   "source": [
    "- Sulution 1"
   ]
  },
  {
   "cell_type": "code",
   "execution_count": null,
   "id": "cardiac-facing",
   "metadata": {},
   "outputs": [],
   "source": [
    "from typing import List\n",
    "\n",
    "def generate_matrix1(n: int) -> List[List[int]]:\n",
    "    \"\"\"\n",
    "    算法思路: \n",
    "        从矩阵的最外层到最内层分别一圈一圈的进行计算，算法结构如下：\n",
    "\n",
    "            是否处理完所有层？\n",
    "                处理 顶部一行\n",
    "                处理 右侧一列\n",
    "                处理 底部一行\n",
    "                处理 左侧一列\n",
    "\n",
    "    Args:\n",
    "        n(int): 矩阵的秩\n",
    "\n",
    "    Returns:\n",
    "        List[List[int]]: 生成的矩阵结果\n",
    "    \"\"\"\n",
    "    res = [[0] * n for _ in range(n)]\n",
    "\n",
    "    l, t, r, b = 0, 0, n - 1, n - 1  # left, top, right, buttom, initialized\n",
    "    num = 1\n",
    "\n",
    "    while l <= r and t <= b:\n",
    "        # 处理顶部一行\n",
    "        for i in range(l, r + 1):\n",
    "            res[t][i] = num\n",
    "            num += 1\n",
    "\n",
    "        # 处理右侧一列\n",
    "        for i in range(t + 1, b + 1):\n",
    "            res[i][r] = num\n",
    "            num += 1\n",
    "\n",
    "        # 处理底部一行\n",
    "        for i in range(r - 1, l, -1):\n",
    "            res[b][i] = num\n",
    "            num += 1\n",
    "\n",
    "        # 处理左侧一列\n",
    "        for i in range(b, t, -1):\n",
    "            res[i][l] = num\n",
    "            num += 1\n",
    "\n",
    "        # 缩小一圈\n",
    "        l += 1\n",
    "        t += 1\n",
    "        r -= 1\n",
    "        b -= 1\n",
    "    return res"
   ]
  },
  {
   "cell_type": "markdown",
   "id": "satisfactory-rouge",
   "metadata": {},
   "source": [
    "- Sulution 2"
   ]
  },
  {
   "cell_type": "code",
   "execution_count": null,
   "id": "neutral-contractor",
   "metadata": {},
   "outputs": [],
   "source": [
    "from typing import List\n",
    "\n",
    "def generate_matrix2(n: int) -> List[List[int]]:\n",
    "    \"\"\"\n",
    "    算法思路: \n",
    "        每次遇到 边界 后，令矩阵填充方向旋转一次，以此计算矩阵填充步进，根据步进值填充矩阵下一个元素\n",
    "\n",
    "    Args:\n",
    "        n(int): 矩阵的秩\n",
    "\n",
    "    Returns:\n",
    "        List[List[int]]: 生成的矩阵结果\n",
    "    \"\"\"\n",
    "    res = [[0] * n for _ in range(n)]\n",
    "    dirs = [(0, 1), (1, 0), (0, -1), (-1, 0)]\n",
    "    rol = 0\n",
    "    x, y = 0, 0\n",
    "\n",
    "    for i in range(1, n ** 2 + 1):\n",
    "        res[x][y] = i  # 填充矩阵元素\n",
    "\n",
    "        dx, dy = dirs[rol]  # 计算矩阵填充步进值\n",
    "\n",
    "        nx, ny = x + dx, y + dy  # 计算下一个填充位置\n",
    "        if nx < 0 or ny < 0 or nx == n or ny == n or res[nx][ny] > 0:  # 判断下一个填充位置是否超出填充范围\n",
    "            \"\"\"\n",
    "            填充位置超出范围的判断\n",
    "                1. 是否超出矩阵边界[0, n - 1]\n",
    "                2. 之前是否已经填充过值\n",
    "            \"\"\"\n",
    "            rol = (rol + 1) % 4  # 对于过界结果，旋转填充方向，重新计算步进值\n",
    "            dx, dy = dirs[rol]\n",
    "\n",
    "        # 前进到下一个填充位置\n",
    "        x += dx\n",
    "        y += dy\n",
    "\n",
    "    return res"
   ]
  },
  {
   "cell_type": "markdown",
   "id": "figured-skating",
   "metadata": {},
   "source": [
    "### 59.2. Test"
   ]
  },
  {
   "cell_type": "markdown",
   "id": "functional-hollywood",
   "metadata": {},
   "source": [
    "- Test 1"
   ]
  },
  {
   "cell_type": "code",
   "execution_count": null,
   "id": "duplicate-politics",
   "metadata": {},
   "outputs": [],
   "source": [
    "%%timeit -n 1 -r 1\n",
    "\n",
    "n = 3\n",
    "r = generate_matrix1(n=n)\n",
    "print('When rank is {}, the matrix is {}'.format(n, r))\n",
    "\n",
    "n = 1\n",
    "r = generate_matrix1(n=n)\n",
    "print('When rank is {}, the matrix is {}'.format(n, r))"
   ]
  },
  {
   "cell_type": "markdown",
   "id": "insured-classics",
   "metadata": {},
   "source": [
    "- Test 2"
   ]
  },
  {
   "cell_type": "code",
   "execution_count": null,
   "id": "ruled-click",
   "metadata": {},
   "outputs": [],
   "source": [
    "# %%timeit -n 1 -r 1\n",
    "\n",
    "n = 3\n",
    "r = generate_matrix2(n=n)\n",
    "print('When rank is {}, the matrix is {}'.format(n, r))\n",
    "\n",
    "n = 1\n",
    "r = generate_matrix2(n=n)\n",
    "print('When rank is {}, the matrix is {}'.format(n, r))"
   ]
  }
 ],
 "metadata": {
  "kernelspec": {
   "display_name": "Python 3",
   "language": "python",
   "name": "python3"
  },
  "language_info": {
   "codemirror_mode": {
    "name": "ipython",
    "version": 3
   },
   "file_extension": ".py",
   "mimetype": "text/x-python",
   "name": "python",
   "nbconvert_exporter": "python",
   "pygments_lexer": "ipython3",
   "version": "3.8.5"
  }
 },
 "nbformat": 4,
 "nbformat_minor": 5
}
