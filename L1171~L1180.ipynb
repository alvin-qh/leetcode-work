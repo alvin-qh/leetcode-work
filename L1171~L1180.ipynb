{
 "cells": [
  {
   "cell_type": "markdown",
   "id": "stopped-surgery",
   "metadata": {},
   "source": [
    "# L1171 ~ L1180\n",
    "\n",
    "> 所有题目著作权归领扣网络所有"
   ]
  },
  {
   "cell_type": "markdown",
   "id": "gothic-clothing",
   "metadata": {},
   "source": [
    "## 1178. 猜字谜\n",
    "\n",
    "外国友人仿照中国字谜设计了一个英文版猜字谜小游戏，请你来猜猜看吧\n",
    "\n",
    "字谜的迷面`puzzle`按字符串形式给出，如果一个单词`word`符合下面两个条件，那么它就可以算作谜底：\n",
    "\n",
    "- 单词`word`中包含谜面`puzzle`的第一个字母\n",
    "- 单词`word`中的每一个字母都可以在谜面`puzzle`中找到  \n",
    "  例如，如果字谜的谜面是`\"abcdefg\"`，那么可以作为谜底的单词有`\"faced\"`, `\"cabbage\"`, 和`\"baggage\"`；而`\"beefed\"`（不含字母`\"a\"`）以及`\"based\"`（其中的`\"s\"`没有出现在谜面中）都不能作为谜底。\n",
    "\n",
    "返回一个答案数组`answer`，数组中的每个元素`answer[i]`是在给出的单词列表`words`中可以作为字谜迷面`puzzles[i]`所对应的谜底的单词数目\n",
    "\n",
    "\n",
    "**示例:**\n",
    "\n",
    "```\n",
    "输入：\n",
    "    words = [\"aaaa\",\"asas\",\"able\",\"ability\",\"actt\",\"actor\",\"access\"], \n",
    "    puzzles = [\"aboveyz\",\"abrodyz\",\"abslute\",\"absoryz\",\"actresz\",\"gaswxyz\"]\n",
    "\n",
    "输出：[1,1,3,2,4,0]\n",
    "\n",
    "解释：\n",
    "    1 个单词可以作为 \"aboveyz\" 的谜底 : \"aaaa\" \n",
    "    1 个单词可以作为 \"abrodyz\" 的谜底 : \"aaaa\"\n",
    "    3 个单词可以作为 \"abslute\" 的谜底 : \"aaaa\", \"asas\", \"able\"\n",
    "    2 个单词可以作为 \"absoryz\" 的谜底 : \"aaaa\", \"asas\"\n",
    "    4 个单词可以作为 \"actresz\" 的谜底 : \"aaaa\", \"asas\", \"actt\", \"access\"\n",
    "    没有单词可以作为 \"gaswxyz\" 的谜底，因为列表中的单词都不含字母 'g'\n",
    "```\n",
    "\n",
    "**提示：**\n",
    "\n",
    "- `1 <= words.length <= 10^5`\n",
    "- `4 <= words[i].length <= 50`\n",
    "- `1 <= puzzles.length <= 10^4`\n",
    "- `puzzles[i].length == 7`\n",
    "- `words[i][j]`, `puzzles[i][j]`都是小写英文字母\n",
    "- 每个`puzzles[i]`所包含的字符都不重复"
   ]
  },
  {
   "cell_type": "markdown",
   "id": "powered-michael",
   "metadata": {},
   "source": [
    "### 1178.1. Solution"
   ]
  },
  {
   "cell_type": "code",
   "execution_count": null,
   "id": "modular-treatment",
   "metadata": {},
   "outputs": [],
   "source": [
    "from collections import Counter\n",
    "from typing import List\n",
    "from functools import lru_cache\n",
    "\n",
    "A = ord('a')\n",
    "\n",
    "@lru_cache\n",
    "def _c_mask(c):\n",
    "    \"\"\"\n",
    "    返回指定字符的二进制标识位\n",
    "    例如 'a' 为 '1'，'b' 为 '10', 'c' 为 '100' 等\n",
    "    \"\"\"\n",
    "    return 1 << (ord(c) - A)\n",
    "\n",
    "def find_num_of_valid_words(words: List[str], puzzles: List[str]) -> List[int]:\n",
    "    \"\"\"\n",
    "    Args:\n",
    "        words(List[str]): 输入的词列表\n",
    "        puzzles(List[str]): 字谜的谜面列表\n",
    "\n",
    "    Returns:\n",
    "        List[int]: 转置后的矩阵\n",
    "    \"\"\"\n",
    "\n",
    "    freq = Counter()\n",
    "    for w in words:\n",
    "        mask = 0\n",
    "        \n",
    "        # 计算一个单词的二进制掩码\n",
    "        for c in w:\n",
    "            mask |= _c_mask(c)\n",
    "        \n",
    "        if str(bin(mask)).count('1') <= 7:\n",
    "            freq[mask] += 1\n",
    "\n",
    "    res = []\n",
    "    for puzzle in puzzles:\n",
    "        total = 0\n",
    "\n",
    "        mask = 0\n",
    "        for i in range(1, 7):\n",
    "            mask |= _c_mask(puzzle[i])\n",
    "\n",
    "        subset = mask\n",
    "        while subset:\n",
    "            s = subset | _c_mask(puzzle[0])\n",
    "            if s in freq:\n",
    "                total += freq[s]\n",
    "                \n",
    "            subset = (subset - 1) & mask\n",
    "\n",
    "        # 在枚举子集的过程中，要么会漏掉全集 mask，要么会漏掉空集\n",
    "        # 这里会漏掉空集，因此需要额外判断空集\n",
    "        if _c_mask(puzzle[0]) in freq:\n",
    "            total += freq[_c_mask(puzzle[0])]\n",
    "\n",
    "        res.append(total)\n",
    "\n",
    "    return res"
   ]
  },
  {
   "cell_type": "markdown",
   "id": "frequent-interim",
   "metadata": {},
   "source": [
    "### 1178.2. Test"
   ]
  },
  {
   "cell_type": "code",
   "execution_count": null,
   "id": "determined-gates",
   "metadata": {},
   "outputs": [],
   "source": [
    "%%timeit -n 1 -r 1\n",
    "\n",
    "print(_mask('z'))\n",
    "\n",
    "words = [\"aaaa\", \"asas\", \"able\", \"ability\", \"actt\", \"actor\", \"access\"]\n",
    "puzzles = [\"aboveyz\", \"abrodyz\", \"abslute\", \"absoryz\", \"actresz\", \"gaswxyz\"]\n",
    "res = find_num_of_valid_words(words=words, puzzles=puzzles)\n",
    "print('Words {} in puzzles {} is: {}'.format(words, puzzles, res))"
   ]
  }
 ],
 "metadata": {
  "kernelspec": {
   "display_name": "Python 3",
   "language": "python",
   "name": "python3"
  },
  "language_info": {
   "codemirror_mode": {
    "name": "ipython",
    "version": 3
   },
   "file_extension": ".py",
   "mimetype": "text/x-python",
   "name": "python",
   "nbconvert_exporter": "python",
   "pygments_lexer": "ipython3",
   "version": "3.8.5"
  }
 },
 "nbformat": 4,
 "nbformat_minor": 5
}
